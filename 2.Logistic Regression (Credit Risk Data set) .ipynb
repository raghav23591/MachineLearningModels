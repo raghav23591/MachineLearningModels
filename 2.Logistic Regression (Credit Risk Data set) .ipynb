{
 "cells": [
  {
   "cell_type": "markdown",
   "metadata": {},
   "source": [
    "#### What is Regression?\n",
    "\n",
    "Regression analysis is a form of preditive modelling technique which investigates the relationship between a dependant and independant variable."
   ]
  },
  {
   "cell_type": "markdown",
   "metadata": {},
   "source": [
    "#### what is Logistic Regression and why?\n",
    "\n",
    "Logistic Regression produces results in a binary format which is used to predict the outcome of the categorical dependant variable.\n",
    "\n",
    "So the output should be discrete/categorical."
   ]
  },
  {
   "cell_type": "markdown",
   "metadata": {},
   "source": [
    "The Sigmoid curve will translate the values from - Infinity to + Infinity to a finite value(ie. 0 to 1)"
   ]
  },
  {
   "cell_type": "markdown",
   "metadata": {},
   "source": [
    "#### Data Set Informtaion:::\n",
    "\n",
    "Loan Id:\n",
    "Gender:\n",
    "Married:\n",
    "Dependant:\n",
    "Education:\n",
    "Self_Employed:\n",
    "ApplicantIncome:\n",
    "CoApplicantIncome:\n",
    "Loan_Amount:\n",
    "Loan_Amount_Term:\n",
    "Credit_History:\n",
    "Property_Area:\n",
    "Loan_Status:"
   ]
  },
  {
   "cell_type": "markdown",
   "metadata": {},
   "source": [
    "#### Lets Start Now... \n",
    "Import all the libraries required.\n"
   ]
  },
  {
   "cell_type": "code",
   "execution_count": 99,
   "metadata": {},
   "outputs": [],
   "source": [
    "import pandas as pd\n",
    "import numpy as np\n",
    "import matplotlib.pyplot as plt\n",
    "import seaborn as sns\n",
    "from scipy.stats import pearsonr,spearmanr\n",
    "from sklearn.linear_model import LogisticRegression\n",
    "from sklearn.metrics import accuracy_score,confusion_matrix,precision_score,f1_score,recall_score,classification_report\n",
    "%matplotlib inline"
   ]
  },
  {
   "cell_type": "markdown",
   "metadata": {},
   "source": [
    "Import the Data Set from the datapath"
   ]
  },
  {
   "cell_type": "code",
   "execution_count": 152,
   "metadata": {},
   "outputs": [],
   "source": [
    "df=pd.read_csv(\"C:\\\\Users\\\\vragha2x\\\\Desktop\\\\Other Docs\\\\PDS\\\\Python\\\\train.csv\")"
   ]
  },
  {
   "cell_type": "code",
   "execution_count": 156,
   "metadata": {},
   "outputs": [
    {
     "data": {
      "text/html": [
       "<div>\n",
       "<style scoped>\n",
       "    .dataframe tbody tr th:only-of-type {\n",
       "        vertical-align: middle;\n",
       "    }\n",
       "\n",
       "    .dataframe tbody tr th {\n",
       "        vertical-align: top;\n",
       "    }\n",
       "\n",
       "    .dataframe thead th {\n",
       "        text-align: right;\n",
       "    }\n",
       "</style>\n",
       "<table border=\"1\" class=\"dataframe\">\n",
       "  <thead>\n",
       "    <tr style=\"text-align: right;\">\n",
       "      <th></th>\n",
       "      <th>Loan_ID</th>\n",
       "      <th>Gender</th>\n",
       "      <th>Married</th>\n",
       "      <th>Dependents</th>\n",
       "      <th>Education</th>\n",
       "      <th>Self_Employed</th>\n",
       "      <th>ApplicantIncome</th>\n",
       "      <th>CoapplicantIncome</th>\n",
       "      <th>LoanAmount</th>\n",
       "      <th>Loan_Amount_Term</th>\n",
       "      <th>Credit_History</th>\n",
       "      <th>Property_Area</th>\n",
       "      <th>Loan_Status</th>\n",
       "    </tr>\n",
       "  </thead>\n",
       "  <tbody>\n",
       "    <tr>\n",
       "      <th>0</th>\n",
       "      <td>LP001002</td>\n",
       "      <td>Male</td>\n",
       "      <td>No</td>\n",
       "      <td>0</td>\n",
       "      <td>Graduate</td>\n",
       "      <td>No</td>\n",
       "      <td>5849</td>\n",
       "      <td>0.0</td>\n",
       "      <td>NaN</td>\n",
       "      <td>360.0</td>\n",
       "      <td>1.0</td>\n",
       "      <td>Urban</td>\n",
       "      <td>Y</td>\n",
       "    </tr>\n",
       "    <tr>\n",
       "      <th>1</th>\n",
       "      <td>LP001003</td>\n",
       "      <td>Male</td>\n",
       "      <td>Yes</td>\n",
       "      <td>1</td>\n",
       "      <td>Graduate</td>\n",
       "      <td>No</td>\n",
       "      <td>4583</td>\n",
       "      <td>1508.0</td>\n",
       "      <td>128.0</td>\n",
       "      <td>360.0</td>\n",
       "      <td>1.0</td>\n",
       "      <td>Rural</td>\n",
       "      <td>N</td>\n",
       "    </tr>\n",
       "    <tr>\n",
       "      <th>2</th>\n",
       "      <td>LP001005</td>\n",
       "      <td>Male</td>\n",
       "      <td>Yes</td>\n",
       "      <td>0</td>\n",
       "      <td>Graduate</td>\n",
       "      <td>Yes</td>\n",
       "      <td>3000</td>\n",
       "      <td>0.0</td>\n",
       "      <td>66.0</td>\n",
       "      <td>360.0</td>\n",
       "      <td>1.0</td>\n",
       "      <td>Urban</td>\n",
       "      <td>Y</td>\n",
       "    </tr>\n",
       "    <tr>\n",
       "      <th>3</th>\n",
       "      <td>LP001006</td>\n",
       "      <td>Male</td>\n",
       "      <td>Yes</td>\n",
       "      <td>0</td>\n",
       "      <td>Not Graduate</td>\n",
       "      <td>No</td>\n",
       "      <td>2583</td>\n",
       "      <td>2358.0</td>\n",
       "      <td>120.0</td>\n",
       "      <td>360.0</td>\n",
       "      <td>1.0</td>\n",
       "      <td>Urban</td>\n",
       "      <td>Y</td>\n",
       "    </tr>\n",
       "    <tr>\n",
       "      <th>4</th>\n",
       "      <td>LP001008</td>\n",
       "      <td>Male</td>\n",
       "      <td>No</td>\n",
       "      <td>0</td>\n",
       "      <td>Graduate</td>\n",
       "      <td>No</td>\n",
       "      <td>6000</td>\n",
       "      <td>0.0</td>\n",
       "      <td>141.0</td>\n",
       "      <td>360.0</td>\n",
       "      <td>1.0</td>\n",
       "      <td>Urban</td>\n",
       "      <td>Y</td>\n",
       "    </tr>\n",
       "  </tbody>\n",
       "</table>\n",
       "</div>"
      ],
      "text/plain": [
       "    Loan_ID Gender Married Dependents     Education Self_Employed  \\\n",
       "0  LP001002   Male      No          0      Graduate            No   \n",
       "1  LP001003   Male     Yes          1      Graduate            No   \n",
       "2  LP001005   Male     Yes          0      Graduate           Yes   \n",
       "3  LP001006   Male     Yes          0  Not Graduate            No   \n",
       "4  LP001008   Male      No          0      Graduate            No   \n",
       "\n",
       "   ApplicantIncome  CoapplicantIncome  LoanAmount  Loan_Amount_Term  \\\n",
       "0             5849                0.0         NaN             360.0   \n",
       "1             4583             1508.0       128.0             360.0   \n",
       "2             3000                0.0        66.0             360.0   \n",
       "3             2583             2358.0       120.0             360.0   \n",
       "4             6000                0.0       141.0             360.0   \n",
       "\n",
       "   Credit_History Property_Area Loan_Status  \n",
       "0             1.0         Urban           Y  \n",
       "1             1.0         Rural           N  \n",
       "2             1.0         Urban           Y  \n",
       "3             1.0         Urban           Y  \n",
       "4             1.0         Urban           Y  "
      ]
     },
     "execution_count": 156,
     "metadata": {},
     "output_type": "execute_result"
    }
   ],
   "source": [
    "df.head(5)"
   ]
  },
  {
   "cell_type": "markdown",
   "metadata": {},
   "source": [
    "### Exploratory Data Analysis"
   ]
  },
  {
   "cell_type": "code",
   "execution_count": 102,
   "metadata": {},
   "outputs": [
    {
     "data": {
      "text/plain": [
       "Loan_ID               object\n",
       "Gender                object\n",
       "Married               object\n",
       "Dependents            object\n",
       "Education             object\n",
       "Self_Employed         object\n",
       "ApplicantIncome        int64\n",
       "CoapplicantIncome    float64\n",
       "LoanAmount           float64\n",
       "Loan_Amount_Term     float64\n",
       "Credit_History       float64\n",
       "Property_Area         object\n",
       "Loan_Status           object\n",
       "dtype: object"
      ]
     },
     "execution_count": 102,
     "metadata": {},
     "output_type": "execute_result"
    }
   ],
   "source": [
    "df.dtypes"
   ]
  },
  {
   "cell_type": "code",
   "execution_count": 103,
   "metadata": {},
   "outputs": [
    {
     "data": {
      "text/plain": [
       "Loan_ID               0\n",
       "Gender               13\n",
       "Married               3\n",
       "Dependents           15\n",
       "Education             0\n",
       "Self_Employed        32\n",
       "ApplicantIncome       0\n",
       "CoapplicantIncome     0\n",
       "LoanAmount           22\n",
       "Loan_Amount_Term     14\n",
       "Credit_History       50\n",
       "Property_Area         0\n",
       "Loan_Status           0\n",
       "dtype: int64"
      ]
     },
     "execution_count": 103,
     "metadata": {},
     "output_type": "execute_result"
    }
   ],
   "source": [
    "df.isna().sum()"
   ]
  },
  {
   "cell_type": "markdown",
   "metadata": {},
   "source": [
    "Out of these columns, (Gender,Male,Dependants,Self_Employed,LoanAmount,Loan_Amount_Term,Credit_History) column has Null vallues. "
   ]
  },
  {
   "cell_type": "markdown",
   "metadata": {},
   "source": [
    "So we will drop the rows that contains null values.."
   ]
  },
  {
   "cell_type": "code",
   "execution_count": 157,
   "metadata": {},
   "outputs": [],
   "source": [
    "d=df.dropna()"
   ]
  },
  {
   "cell_type": "code",
   "execution_count": 105,
   "metadata": {},
   "outputs": [
    {
     "name": "stdout",
     "output_type": "stream",
     "text": [
      "before 614\n",
      "after 480\n"
     ]
    },
    {
     "data": {
      "text/plain": [
       "134"
      ]
     },
     "execution_count": 105,
     "metadata": {},
     "output_type": "execute_result"
    }
   ],
   "source": [
    "print(\"before\",df.shape[0])\n",
    "print(\"after\",d.shape[0])\n",
    "df.shape[0]-d.shape[0]"
   ]
  },
  {
   "cell_type": "markdown",
   "metadata": {},
   "source": [
    "df.shape[0]- tells us the shape of the data set before dropping the null values....\n",
    "d.shape[0] - tells us the shape of the data set after dropping the null values\n",
    "\n",
    "Here 0 indicates rows and 1 indicates the columns.\n",
    "\n",
    "134 rows of null values has been dropped for better results"
   ]
  },
  {
   "cell_type": "code",
   "execution_count": 106,
   "metadata": {},
   "outputs": [
    {
     "data": {
      "text/plain": [
       "Index(['Loan_ID', 'Gender', 'Married', 'Dependents', 'Education',\n",
       "       'Self_Employed', 'ApplicantIncome', 'CoapplicantIncome', 'LoanAmount',\n",
       "       'Loan_Amount_Term', 'Credit_History', 'Property_Area', 'Loan_Status'],\n",
       "      dtype='object')"
      ]
     },
     "execution_count": 106,
     "metadata": {},
     "output_type": "execute_result"
    }
   ],
   "source": [
    "d.columns"
   ]
  },
  {
   "cell_type": "markdown",
   "metadata": {},
   "source": [
    "#### Univariate Analysis"
   ]
  },
  {
   "cell_type": "markdown",
   "metadata": {},
   "source": [
    "1.Dependants"
   ]
  },
  {
   "cell_type": "code",
   "execution_count": 107,
   "metadata": {},
   "outputs": [
    {
     "data": {
      "text/plain": [
       "array(['1', '0', '2', '3+'], dtype=object)"
      ]
     },
     "execution_count": 107,
     "metadata": {},
     "output_type": "execute_result"
    }
   ],
   "source": [
    "d.Dependents.unique()"
   ]
  },
  {
   "cell_type": "markdown",
   "metadata": {},
   "source": [
    "In the 'Dependants' column, there are only 4 unique values.. ['1','0','2','3+']"
   ]
  },
  {
   "cell_type": "markdown",
   "metadata": {},
   "source": [
    "2.Applicant Income"
   ]
  },
  {
   "cell_type": "code",
   "execution_count": 108,
   "metadata": {},
   "outputs": [
    {
     "data": {
      "text/plain": [
       "<matplotlib.axes._subplots.AxesSubplot at 0x26a12165cf8>"
      ]
     },
     "execution_count": 108,
     "metadata": {},
     "output_type": "execute_result"
    },
    {
     "data": {
      "image/png": "[encoded data removed]",
      "text/plain": [
       "<Figure size 432x288 with 1 Axes>"
      ]
     },
     "metadata": {
      "needs_background": "light"
     },
     "output_type": "display_data"
    }
   ],
   "source": [
    "sns.distplot(d.ApplicantIncome)"
   ]
  },
  {
   "cell_type": "markdown",
   "metadata": {},
   "source": [
    "3.CoApplicant Income"
   ]
  },
  {
   "cell_type": "code",
   "execution_count": 109,
   "metadata": {},
   "outputs": [
    {
     "data": {
      "text/plain": [
       "<matplotlib.axes._subplots.AxesSubplot at 0x26a1213fb38>"
      ]
     },
     "execution_count": 109,
     "metadata": {},
     "output_type": "execute_result"
    },
    {
     "data": {
      "image/png": "[encoded data removed]",
      "text/plain": [
       "<Figure size 432x288 with 1 Axes>"
      ]
     },
     "metadata": {
      "needs_background": "light"
     },
     "output_type": "display_data"
    }
   ],
   "source": [
    "sns.distplot(d.CoapplicantIncome)"
   ]
  },
  {
   "cell_type": "markdown",
   "metadata": {},
   "source": [
    "4.Loan Amount"
   ]
  },
  {
   "cell_type": "code",
   "execution_count": 110,
   "metadata": {},
   "outputs": [
    {
     "data": {
      "text/plain": [
       "<matplotlib.axes._subplots.AxesSubplot at 0x26a11f60668>"
      ]
     },
     "execution_count": 110,
     "metadata": {},
     "output_type": "execute_result"
    },
    {
     "data": {
      "image/png": "[encoded data removed]",
      "text/plain": [
       "<Figure size 432x288 with 1 Axes>"
      ]
     },
     "metadata": {
      "needs_background": "light"
     },
     "output_type": "display_data"
    }
   ],
   "source": [
    "sns.distplot(d.LoanAmount)"
   ]
  },
  {
   "cell_type": "code",
   "execution_count": 22,
   "metadata": {},
   "outputs": [
    {
     "data": {
      "text/plain": [
       "<matplotlib.axes._subplots.AxesSubplot at 0x1d9de2796a0>"
      ]
     },
     "execution_count": 22,
     "metadata": {},
     "output_type": "execute_result"
    },
    {
     "data": {
      "image/png": "[encoded data removed]",
      "text/plain": [
       "<Figure size 432x288 with 1 Axes>"
      ]
     },
     "metadata": {
      "needs_background": "light"
     },
     "output_type": "display_data"
    }
   ],
   "source": [
    "sns.boxplot(y=d.LoanAmount)"
   ]
  },
  {
   "cell_type": "markdown",
   "metadata": {},
   "source": [
    "The box in the boxplot covers 25% to 75% ie 50% of the data. "
   ]
  },
  {
   "cell_type": "code",
   "execution_count": 23,
   "metadata": {},
   "outputs": [
    {
     "data": {
      "text/plain": [
       "144.73541666666668"
      ]
     },
     "execution_count": 23,
     "metadata": {},
     "output_type": "execute_result"
    }
   ],
   "source": [
    "d.LoanAmount.mean()"
   ]
  },
  {
   "cell_type": "code",
   "execution_count": 24,
   "metadata": {},
   "outputs": [
    {
     "data": {
      "text/plain": [
       "count    480.000000\n",
       "mean     144.735417\n",
       "std       80.508164\n",
       "min        9.000000\n",
       "25%      100.000000\n",
       "50%      128.000000\n",
       "75%      170.000000\n",
       "max      600.000000\n",
       "Name: LoanAmount, dtype: float64"
      ]
     },
     "execution_count": 24,
     "metadata": {},
     "output_type": "execute_result"
    }
   ],
   "source": [
    "d.LoanAmount.describe()"
   ]
  },
  {
   "cell_type": "markdown",
   "metadata": {},
   "source": [
    "5.Loan Amount term"
   ]
  },
  {
   "cell_type": "code",
   "execution_count": 25,
   "metadata": {},
   "outputs": [
    {
     "data": {
      "text/plain": [
       "array([360., 120., 180.,  60., 300., 480., 240.,  36.,  84.])"
      ]
     },
     "execution_count": 25,
     "metadata": {},
     "output_type": "execute_result"
    }
   ],
   "source": [
    "d.Loan_Amount_Term.unique()"
   ]
  },
  {
   "cell_type": "code",
   "execution_count": 26,
   "metadata": {},
   "outputs": [
    {
     "data": {
      "text/plain": [
       "360.0    411\n",
       "180.0     36\n",
       "480.0     12\n",
       "300.0      9\n",
       "84.0       3\n",
       "120.0      3\n",
       "36.0       2\n",
       "240.0      2\n",
       "60.0       2\n",
       "Name: Loan_Amount_Term, dtype: int64"
      ]
     },
     "execution_count": 26,
     "metadata": {},
     "output_type": "execute_result"
    }
   ],
   "source": [
    "d.Loan_Amount_Term.value_counts()"
   ]
  },
  {
   "cell_type": "markdown",
   "metadata": {},
   "source": [
    "Majority(85%) of the applicants has gone for 360 months loan term...\n",
    "\n",
    "\n",
    "Considering Loan_Amount_Term Variable(Looks descrete) is not recommended.. Bcos most of the people are falling under 360"
   ]
  },
  {
   "cell_type": "markdown",
   "metadata": {},
   "source": [
    "6.Credit History"
   ]
  },
  {
   "cell_type": "code",
   "execution_count": 27,
   "metadata": {},
   "outputs": [
    {
     "data": {
      "text/plain": [
       "array([1., 0.])"
      ]
     },
     "execution_count": 27,
     "metadata": {},
     "output_type": "execute_result"
    }
   ],
   "source": [
    "d.Credit_History.unique()\n",
    "#d['Credit_History'].unique()"
   ]
  },
  {
   "cell_type": "markdown",
   "metadata": {},
   "source": [
    "7.Property Area"
   ]
  },
  {
   "cell_type": "code",
   "execution_count": 28,
   "metadata": {},
   "outputs": [
    {
     "data": {
      "text/plain": [
       "array(['Rural', 'Urban', 'Semiurban'], dtype=object)"
      ]
     },
     "execution_count": 28,
     "metadata": {},
     "output_type": "execute_result"
    }
   ],
   "source": [
    "d.Property_Area.unique()\n",
    "#d['Property_Area'].unique()"
   ]
  },
  {
   "cell_type": "markdown",
   "metadata": {},
   "source": [
    "8.Loan Status(Target Variable)"
   ]
  },
  {
   "cell_type": "code",
   "execution_count": 29,
   "metadata": {},
   "outputs": [
    {
     "data": {
      "text/plain": [
       "array(['N', 'Y'], dtype=object)"
      ]
     },
     "execution_count": 29,
     "metadata": {},
     "output_type": "execute_result"
    }
   ],
   "source": [
    "d.Loan_Status.unique()"
   ]
  },
  {
   "cell_type": "code",
   "execution_count": 30,
   "metadata": {},
   "outputs": [
    {
     "data": {
      "text/plain": [
       "Y    332\n",
       "N    148\n",
       "Name: Loan_Status, dtype: int64"
      ]
     },
     "execution_count": 30,
     "metadata": {},
     "output_type": "execute_result"
    }
   ],
   "source": [
    "d.Loan_Status.value_counts()"
   ]
  },
  {
   "cell_type": "markdown",
   "metadata": {},
   "source": [
    "#### MultiVariate Analysis"
   ]
  },
  {
   "cell_type": "code",
   "execution_count": 35,
   "metadata": {},
   "outputs": [
    {
     "data": {
      "text/plain": [
       "Loan_Status\n",
       "N    5730.189189\n",
       "Y    5201.093373\n",
       "Name: ApplicantIncome, dtype: float64"
      ]
     },
     "execution_count": 35,
     "metadata": {},
     "output_type": "execute_result"
    }
   ],
   "source": [
    "# H0:Applicant income is very important. So that may impact the loan status\n",
    "d.groupby('Loan_Status')['ApplicantIncome'].mean()"
   ]
  },
  {
   "cell_type": "code",
   "execution_count": 36,
   "metadata": {},
   "outputs": [
    {
     "data": {
      "text/plain": [
       "<matplotlib.axes._subplots.AxesSubplot at 0x1d9df3a66d8>"
      ]
     },
     "execution_count": 36,
     "metadata": {},
     "output_type": "execute_result"
    },
    {
     "data": {
      "image/png": "[encoded data removed]",
      "text/plain": [
       "<Figure size 432x288 with 1 Axes>"
      ]
     },
     "metadata": {
      "needs_background": "light"
     },
     "output_type": "display_data"
    }
   ],
   "source": [
    "sns.scatterplot(d.ApplicantIncome,d.LoanAmount)"
   ]
  },
  {
   "cell_type": "markdown",
   "metadata": {},
   "source": [
    "It is found that there are few outliars.. \n",
    "\n",
    "And Also if we observe the graph carefully, Loan Amount has been given to the person whose Applicant Income is < 30000.."
   ]
  },
  {
   "cell_type": "code",
   "execution_count": 39,
   "metadata": {},
   "outputs": [
    {
     "name": "stdout",
     "output_type": "stream",
     "text": [
      "spearmanr: 0.5212689283368801\n",
      "pearsonr: 0.49530958608655357\n"
     ]
    }
   ],
   "source": [
    "print('spearmanr:',spearmanr(d.ApplicantIncome,d.LoanAmount)[0])\n",
    "print('pearsonr:',pearsonr(d.ApplicantIncome,d.LoanAmount)[0])"
   ]
  },
  {
   "cell_type": "markdown",
   "metadata": {},
   "source": [
    "When it is found there are few outliars, going with spearmanr will give better result when compared to pearsonr "
   ]
  },
  {
   "cell_type": "code",
   "execution_count": 74,
   "metadata": {},
   "outputs": [
    {
     "data": {
      "text/plain": [
       "<matplotlib.axes._subplots.AxesSubplot at 0x1d9e0f38438>"
      ]
     },
     "execution_count": 74,
     "metadata": {},
     "output_type": "execute_result"
    },
    {
     "data": {
      "image/png": "[encoded data removed]",
      "text/plain": [
       "<Figure size 432x288 with 1 Axes>"
      ]
     },
     "metadata": {
      "needs_background": "light"
     },
     "output_type": "display_data"
    }
   ],
   "source": [
    "sns.scatterplot(d.ApplicantIncome,d.CoapplicantIncome)"
   ]
  },
  {
   "cell_type": "code",
   "execution_count": 111,
   "metadata": {},
   "outputs": [
    {
     "name": "stderr",
     "output_type": "stream",
     "text": [
      "C:\\Users\\vragha2x\\AppData\\Local\\Continuum\\anaconda3\\lib\\site-packages\\ipykernel_launcher.py:2: SettingWithCopyWarning: \n",
      "A value is trying to be set on a copy of a slice from a DataFrame.\n",
      "Try using .loc[row_indexer,col_indexer] = value instead\n",
      "\n",
      "See the caveats in the documentation: http://pandas.pydata.org/pandas-docs/stable/indexing.html#indexing-view-versus-copy\n",
      "  \n"
     ]
    }
   ],
   "source": [
    "#Creating a new column called 'Total_Income' by combining (Adding) Applicant_Income and CoApplicant_Income\n",
    "d['Total_Income']=d.ApplicantIncome+d.CoapplicantIncome"
   ]
  },
  {
   "cell_type": "code",
   "execution_count": 112,
   "metadata": {},
   "outputs": [
    {
     "name": "stdout",
     "output_type": "stream",
     "text": [
      "spearmanr: 0.7050973822248088\n",
      "pearsonr: 0.55391385474627\n"
     ]
    }
   ],
   "source": [
    "print('spearmanr:',spearmanr(d.Total_Income,d.LoanAmount)[0])\n",
    "print('pearsonr:',pearsonr(d.Total_Income,d.LoanAmount)[0])"
   ]
  },
  {
   "cell_type": "markdown",
   "metadata": {},
   "source": [
    "spearmanr gives a better result when the incomes are added. "
   ]
  },
  {
   "cell_type": "code",
   "execution_count": 49,
   "metadata": {},
   "outputs": [
    {
     "data": {
      "text/plain": [
       "<seaborn.axisgrid.FacetGrid at 0x1d9d522a0f0>"
      ]
     },
     "execution_count": 49,
     "metadata": {},
     "output_type": "execute_result"
    },
    {
     "data": {
      "image/png": "[encoded data removed]",
      "text/plain": [
       "<Figure size 428.75x360 with 1 Axes>"
      ]
     },
     "metadata": {
      "needs_background": "light"
     },
     "output_type": "display_data"
    }
   ],
   "source": [
    "sns.lmplot(x='Total_Income',y='LoanAmount',data=d,hue='Loan_Status',fit_reg=False)"
   ]
  },
  {
   "cell_type": "markdown",
   "metadata": {},
   "source": [
    "As discussed earlier, Loan Amount is available only for the person whose Total_Income is lesser than 30000"
   ]
  },
  {
   "cell_type": "code",
   "execution_count": 54,
   "metadata": {},
   "outputs": [
    {
     "name": "stdout",
     "output_type": "stream",
     "text": [
      "Pearsonr: 0.7014709110110459\n",
      "Spearmanr: 0.710519017997897\n"
     ]
    },
    {
     "data": {
      "text/plain": [
       "<seaborn.axisgrid.FacetGrid at 0x1d9df816860>"
      ]
     },
     "execution_count": 54,
     "metadata": {},
     "output_type": "execute_result"
    },
    {
     "data": {
      "image/png": "[encoded data removed]",
      "text/plain": [
       "<Figure size 428.75x360 with 1 Axes>"
      ]
     },
     "metadata": {
      "needs_background": "light"
     },
     "output_type": "display_data"
    }
   ],
   "source": [
    "print('Pearsonr:',pearsonr(d[d.Total_Income<30000].Total_Income,d[d.Total_Income<30000].LoanAmount)[0])\n",
    "print('Spearmanr:',spearmanr(d[d.Total_Income<30000].Total_Income,d[d.Total_Income<30000].LoanAmount)[0])\n",
    "\n",
    "sns.lmplot(x='Total_Income',y='LoanAmount',data=d[d.Total_Income<30000],hue='Loan_Status',fit_reg=False)"
   ]
  },
  {
   "cell_type": "code",
   "execution_count": 58,
   "metadata": {},
   "outputs": [
    {
     "data": {
      "text/plain": [
       "Self_Employed  Loan_Status\n",
       "No             Y              289\n",
       "               N              125\n",
       "Yes            Y               43\n",
       "               N               23\n",
       "Name: Loan_Status, dtype: int64"
      ]
     },
     "execution_count": 58,
     "metadata": {},
     "output_type": "execute_result"
    }
   ],
   "source": [
    "# H0: Self Employed is related to Loan Status\n",
    "d.groupby('Self_Employed')['Loan_Status'].value_counts()"
   ]
  },
  {
   "cell_type": "code",
   "execution_count": 60,
   "metadata": {},
   "outputs": [
    {
     "data": {
      "text/plain": [
       "Self_Employed\n",
       "No     414\n",
       "Yes     66\n",
       "Name: Loan_Status, dtype: int64"
      ]
     },
     "execution_count": 60,
     "metadata": {},
     "output_type": "execute_result"
    }
   ],
   "source": [
    "d.groupby('Self_Employed')['Loan_Status'].count()"
   ]
  },
  {
   "cell_type": "code",
   "execution_count": 64,
   "metadata": {},
   "outputs": [
    {
     "data": {
      "text/plain": [
       "Self_Employed  Loan_Status\n",
       "No             Y              0.698068\n",
       "               N              0.301932\n",
       "Yes            Y              0.651515\n",
       "               N              0.348485\n",
       "Name: Loan_Status, dtype: float64"
      ]
     },
     "execution_count": 64,
     "metadata": {},
     "output_type": "execute_result"
    }
   ],
   "source": [
    "d.groupby('Self_Employed')['Loan_Status'].value_counts()/d.groupby('Self_Employed')['Loan_Status'].count()\n",
    "# To know the probability, we can divide by counts()"
   ]
  },
  {
   "cell_type": "code",
   "execution_count": 61,
   "metadata": {},
   "outputs": [
    {
     "data": {
      "text/plain": [
       "Education     Loan_Status\n",
       "Graduate      Y              271\n",
       "              N              112\n",
       "Not Graduate  Y               61\n",
       "              N               36\n",
       "Name: Loan_Status, dtype: int64"
      ]
     },
     "execution_count": 61,
     "metadata": {},
     "output_type": "execute_result"
    }
   ],
   "source": [
    "#H0: Education and Loan Status are related to each other.. \n",
    "d.groupby('Education')['Loan_Status'].value_counts()"
   ]
  },
  {
   "cell_type": "code",
   "execution_count": 62,
   "metadata": {},
   "outputs": [
    {
     "data": {
      "text/plain": [
       "Education\n",
       "Graduate        383\n",
       "Not Graduate     97\n",
       "Name: Loan_Status, dtype: int64"
      ]
     },
     "execution_count": 62,
     "metadata": {},
     "output_type": "execute_result"
    }
   ],
   "source": [
    "d.groupby('Education')['Loan_Status'].count()"
   ]
  },
  {
   "cell_type": "code",
   "execution_count": 63,
   "metadata": {},
   "outputs": [
    {
     "data": {
      "text/plain": [
       "Education     Loan_Status\n",
       "Graduate      Y              0.707572\n",
       "              N              0.292428\n",
       "Not Graduate  Y              0.628866\n",
       "              N              0.371134\n",
       "Name: Loan_Status, dtype: float64"
      ]
     },
     "execution_count": 63,
     "metadata": {},
     "output_type": "execute_result"
    }
   ],
   "source": [
    "d.groupby('Education')['Loan_Status'].value_counts()/d.groupby('Education')['Loan_Status'].count()"
   ]
  },
  {
   "cell_type": "code",
   "execution_count": 66,
   "metadata": {},
   "outputs": [
    {
     "data": {
      "text/plain": [
       "Education     Self_Employed\n",
       "Graduate      No               0.861619\n",
       "              Yes              0.138381\n",
       "Not Graduate  No               0.865979\n",
       "              Yes              0.134021\n",
       "dtype: float64"
      ]
     },
     "execution_count": 66,
     "metadata": {},
     "output_type": "execute_result"
    }
   ],
   "source": [
    "#H0: Education and Self Employed are related to each other\n",
    "d.groupby('Education')['Self_Employed'].value_counts()/d.groupby('Education')['Loan_Status'].count()"
   ]
  },
  {
   "cell_type": "code",
   "execution_count": 67,
   "metadata": {},
   "outputs": [
    {
     "data": {
      "text/plain": [
       "Gender  Loan_Status\n",
       "Female  Y              0.627907\n",
       "        N              0.372093\n",
       "Male    Y              0.705584\n",
       "        N              0.294416\n",
       "Name: Loan_Status, dtype: float64"
      ]
     },
     "execution_count": 67,
     "metadata": {},
     "output_type": "execute_result"
    }
   ],
   "source": [
    "#H0: Gender and Loan status are related to each other. \n",
    "d.groupby('Gender')['Loan_Status'].value_counts()/d.groupby('Gender')['Loan_Status'].count()"
   ]
  },
  {
   "cell_type": "code",
   "execution_count": 68,
   "metadata": {},
   "outputs": [
    {
     "data": {
      "text/plain": [
       "Married  Loan_Status\n",
       "No       Y              0.621302\n",
       "         N              0.378698\n",
       "Yes      Y              0.729904\n",
       "         N              0.270096\n",
       "Name: Loan_Status, dtype: float64"
      ]
     },
     "execution_count": 68,
     "metadata": {},
     "output_type": "execute_result"
    }
   ],
   "source": [
    "#H0: Married and Loan status are related to each other. \n",
    "d.groupby('Married')['Loan_Status'].value_counts()/d.groupby('Married')['Loan_Status'].count()\n"
   ]
  },
  {
   "cell_type": "code",
   "execution_count": 70,
   "metadata": {},
   "outputs": [
    {
     "data": {
      "text/plain": [
       "Dependents  Loan_Status\n",
       "0           Y              0.682482\n",
       "            N              0.317518\n",
       "1           Y              0.650000\n",
       "            N              0.350000\n",
       "2           Y              0.764706\n",
       "            N              0.235294\n",
       "3+          Y              0.682927\n",
       "            N              0.317073\n",
       "Name: Loan_Status, dtype: float64"
      ]
     },
     "execution_count": 70,
     "metadata": {},
     "output_type": "execute_result"
    }
   ],
   "source": [
    "#H0: Dependants and Loan Status are related to each other. \n",
    "d.groupby('Dependents')['Loan_Status'].value_counts()/d.groupby('Dependents')['Loan_Status'].count()"
   ]
  },
  {
   "cell_type": "code",
   "execution_count": 71,
   "metadata": {},
   "outputs": [
    {
     "data": {
      "text/plain": [
       "Dependents\n",
       "0     6351.507737\n",
       "1     7755.287500\n",
       "2     6891.962353\n",
       "3+    9443.975610\n",
       "Name: Total_Income, dtype: float64"
      ]
     },
     "execution_count": 71,
     "metadata": {},
     "output_type": "execute_result"
    }
   ],
   "source": [
    "# To find the mean of the Total Income who has Dependants\n",
    "d.groupby('Dependents')['Total_Income'].mean()"
   ]
  },
  {
   "cell_type": "code",
   "execution_count": 73,
   "metadata": {},
   "outputs": [
    {
     "data": {
      "text/plain": [
       "Dependents\n",
       "0     4768.167883\n",
       "1     6267.837500\n",
       "2     5151.529412\n",
       "3+    8025.512195\n",
       "Name: ApplicantIncome, dtype: float64"
      ]
     },
     "execution_count": 73,
     "metadata": {},
     "output_type": "execute_result"
    }
   ],
   "source": [
    "# To find the mean of the Applicant Income who has Dependants\n",
    "\n",
    "d.groupby('Dependents')['ApplicantIncome'].mean()"
   ]
  },
  {
   "cell_type": "code",
   "execution_count": 75,
   "metadata": {},
   "outputs": [
    {
     "data": {
      "text/plain": [
       "Property_Area  Loan_Status\n",
       "Rural          Y              0.611511\n",
       "               N              0.388489\n",
       "Semiurban      Y              0.780105\n",
       "               N              0.219895\n",
       "Urban          Y              0.653333\n",
       "               N              0.346667\n",
       "Name: Loan_Status, dtype: float64"
      ]
     },
     "execution_count": 75,
     "metadata": {},
     "output_type": "execute_result"
    }
   ],
   "source": [
    "#H0: Property Area and Loan Status are related to each other. \n",
    "d.groupby('Property_Area')['Loan_Status'].value_counts()/d.groupby('Property_Area')['Loan_Status'].count()"
   ]
  },
  {
   "cell_type": "markdown",
   "metadata": {},
   "source": [
    "#### Data Cleaning "
   ]
  },
  {
   "cell_type": "code",
   "execution_count": 113,
   "metadata": {},
   "outputs": [
    {
     "data": {
      "text/plain": [
       "Index(['Loan_ID', 'Gender', 'Married', 'Dependents', 'Education',\n",
       "       'Self_Employed', 'ApplicantIncome', 'CoapplicantIncome', 'LoanAmount',\n",
       "       'Loan_Amount_Term', 'Credit_History', 'Property_Area', 'Loan_Status',\n",
       "       'Total_Income'],\n",
       "      dtype='object')"
      ]
     },
     "execution_count": 113,
     "metadata": {},
     "output_type": "execute_result"
    }
   ],
   "source": [
    "d.columns"
   ]
  },
  {
   "cell_type": "code",
   "execution_count": 158,
   "metadata": {},
   "outputs": [],
   "source": [
    "#Making the Data set ordinal:::\n",
    "\n",
    "def datacleaning(x):\n",
    "    x.Gender=x.Gender.map(lambda x:1 if x=='Male' else 0) #Assigning 1 if Gender is 'Male' and 0 if Gemder is 'Female'\n",
    "    x.Married=x.Married.map(lambda x:1 if x=='Yes' else 0) #Assigning 1 if Married is 'Yes' and 0 if Married is 'No'\n",
    "    x.Dependents=x.Dependents.map(lambda x:3 if x=='3+' else int(x)) #Assigning 3 if Dependents is '3+'' and same values if other than '3+'\n",
    "    x.Education=x.Education.map(lambda x:1 if x=='Graduate' else 0) #Assigning 1 if Education is 'Graduate' and o if education is 'Not graduate'\n",
    "    x.Self_Employed=x.Self_Employed.map(lambda x:1 if x=='Yes' else 0) #Assigning 1 if SelfEmployed is 'Yes' and 0 if selfEmployed is 'No'\n",
    "    dummies=pd.get_dummies(x.Property_Area) #Get Dummies will create columns(=Unique values) and assign 1 and 0. \n",
    "    #x=x.join(dummies) #Joining dummies to the dataset\n",
    "    x[\"TotalIncome\"]=x.ApplicantIncome+x.CoapplicantIncome\n",
    "    y=x.Loan_Status.map(lambda x:1 if x=='Y' else 0) #Assigning 1 if the Loan status is 'Y' and 0 if the Loan Status is 'N'\n",
    "    x=x.drop(['Loan_ID','LoanAmount','Loan_Amount_Term','Property_Area','Loan_Status','ApplicantIncome','CoapplicantIncome'],axis=1) #Dropping the unwanted columns from the dataset\n",
    "    return x,y\n",
    "   "
   ]
  },
  {
   "cell_type": "code",
   "execution_count": 159,
   "metadata": {},
   "outputs": [],
   "source": [
    "X,y=datacleaning(d.copy())"
   ]
  },
  {
   "cell_type": "code",
   "execution_count": 160,
   "metadata": {},
   "outputs": [
    {
     "data": {
      "text/html": [
       "<div>\n",
       "<style scoped>\n",
       "    .dataframe tbody tr th:only-of-type {\n",
       "        vertical-align: middle;\n",
       "    }\n",
       "\n",
       "    .dataframe tbody tr th {\n",
       "        vertical-align: top;\n",
       "    }\n",
       "\n",
       "    .dataframe thead th {\n",
       "        text-align: right;\n",
       "    }\n",
       "</style>\n",
       "<table border=\"1\" class=\"dataframe\">\n",
       "  <thead>\n",
       "    <tr style=\"text-align: right;\">\n",
       "      <th></th>\n",
       "      <th>Gender</th>\n",
       "      <th>Married</th>\n",
       "      <th>Dependents</th>\n",
       "      <th>Education</th>\n",
       "      <th>Self_Employed</th>\n",
       "      <th>Credit_History</th>\n",
       "      <th>Rural</th>\n",
       "      <th>Semiurban</th>\n",
       "      <th>Urban</th>\n",
       "      <th>TotalIncome</th>\n",
       "    </tr>\n",
       "  </thead>\n",
       "  <tbody>\n",
       "    <tr>\n",
       "      <th>1</th>\n",
       "      <td>1</td>\n",
       "      <td>1</td>\n",
       "      <td>1</td>\n",
       "      <td>1</td>\n",
       "      <td>0</td>\n",
       "      <td>1.0</td>\n",
       "      <td>1</td>\n",
       "      <td>0</td>\n",
       "      <td>0</td>\n",
       "      <td>6091.0</td>\n",
       "    </tr>\n",
       "    <tr>\n",
       "      <th>2</th>\n",
       "      <td>1</td>\n",
       "      <td>1</td>\n",
       "      <td>0</td>\n",
       "      <td>1</td>\n",
       "      <td>1</td>\n",
       "      <td>1.0</td>\n",
       "      <td>0</td>\n",
       "      <td>0</td>\n",
       "      <td>1</td>\n",
       "      <td>3000.0</td>\n",
       "    </tr>\n",
       "    <tr>\n",
       "      <th>3</th>\n",
       "      <td>1</td>\n",
       "      <td>1</td>\n",
       "      <td>0</td>\n",
       "      <td>0</td>\n",
       "      <td>0</td>\n",
       "      <td>1.0</td>\n",
       "      <td>0</td>\n",
       "      <td>0</td>\n",
       "      <td>1</td>\n",
       "      <td>4941.0</td>\n",
       "    </tr>\n",
       "    <tr>\n",
       "      <th>4</th>\n",
       "      <td>1</td>\n",
       "      <td>0</td>\n",
       "      <td>0</td>\n",
       "      <td>1</td>\n",
       "      <td>0</td>\n",
       "      <td>1.0</td>\n",
       "      <td>0</td>\n",
       "      <td>0</td>\n",
       "      <td>1</td>\n",
       "      <td>6000.0</td>\n",
       "    </tr>\n",
       "    <tr>\n",
       "      <th>5</th>\n",
       "      <td>1</td>\n",
       "      <td>1</td>\n",
       "      <td>2</td>\n",
       "      <td>1</td>\n",
       "      <td>1</td>\n",
       "      <td>1.0</td>\n",
       "      <td>0</td>\n",
       "      <td>0</td>\n",
       "      <td>1</td>\n",
       "      <td>9613.0</td>\n",
       "    </tr>\n",
       "    <tr>\n",
       "      <th>6</th>\n",
       "      <td>1</td>\n",
       "      <td>1</td>\n",
       "      <td>0</td>\n",
       "      <td>0</td>\n",
       "      <td>0</td>\n",
       "      <td>1.0</td>\n",
       "      <td>0</td>\n",
       "      <td>0</td>\n",
       "      <td>1</td>\n",
       "      <td>3849.0</td>\n",
       "    </tr>\n",
       "    <tr>\n",
       "      <th>7</th>\n",
       "      <td>1</td>\n",
       "      <td>1</td>\n",
       "      <td>3</td>\n",
       "      <td>1</td>\n",
       "      <td>0</td>\n",
       "      <td>0.0</td>\n",
       "      <td>0</td>\n",
       "      <td>1</td>\n",
       "      <td>0</td>\n",
       "      <td>5540.0</td>\n",
       "    </tr>\n",
       "    <tr>\n",
       "      <th>8</th>\n",
       "      <td>1</td>\n",
       "      <td>1</td>\n",
       "      <td>2</td>\n",
       "      <td>1</td>\n",
       "      <td>0</td>\n",
       "      <td>1.0</td>\n",
       "      <td>0</td>\n",
       "      <td>0</td>\n",
       "      <td>1</td>\n",
       "      <td>5532.0</td>\n",
       "    </tr>\n",
       "    <tr>\n",
       "      <th>9</th>\n",
       "      <td>1</td>\n",
       "      <td>1</td>\n",
       "      <td>1</td>\n",
       "      <td>1</td>\n",
       "      <td>0</td>\n",
       "      <td>1.0</td>\n",
       "      <td>0</td>\n",
       "      <td>1</td>\n",
       "      <td>0</td>\n",
       "      <td>23809.0</td>\n",
       "    </tr>\n",
       "    <tr>\n",
       "      <th>10</th>\n",
       "      <td>1</td>\n",
       "      <td>1</td>\n",
       "      <td>2</td>\n",
       "      <td>1</td>\n",
       "      <td>0</td>\n",
       "      <td>1.0</td>\n",
       "      <td>0</td>\n",
       "      <td>0</td>\n",
       "      <td>1</td>\n",
       "      <td>3900.0</td>\n",
       "    </tr>\n",
       "  </tbody>\n",
       "</table>\n",
       "</div>"
      ],
      "text/plain": [
       "    Gender  Married  Dependents  Education  Self_Employed  Credit_History  \\\n",
       "1        1        1           1          1              0             1.0   \n",
       "2        1        1           0          1              1             1.0   \n",
       "3        1        1           0          0              0             1.0   \n",
       "4        1        0           0          1              0             1.0   \n",
       "5        1        1           2          1              1             1.0   \n",
       "6        1        1           0          0              0             1.0   \n",
       "7        1        1           3          1              0             0.0   \n",
       "8        1        1           2          1              0             1.0   \n",
       "9        1        1           1          1              0             1.0   \n",
       "10       1        1           2          1              0             1.0   \n",
       "\n",
       "    Rural  Semiurban  Urban  TotalIncome  \n",
       "1       1          0      0       6091.0  \n",
       "2       0          0      1       3000.0  \n",
       "3       0          0      1       4941.0  \n",
       "4       0          0      1       6000.0  \n",
       "5       0          0      1       9613.0  \n",
       "6       0          0      1       3849.0  \n",
       "7       0          1      0       5540.0  \n",
       "8       0          0      1       5532.0  \n",
       "9       0          1      0      23809.0  \n",
       "10      0          0      1       3900.0  "
      ]
     },
     "execution_count": 160,
     "metadata": {},
     "output_type": "execute_result"
    }
   ],
   "source": [
    "X.head(10)"
   ]
  },
  {
   "cell_type": "code",
   "execution_count": 117,
   "metadata": {},
   "outputs": [
    {
     "data": {
      "text/plain": [
       "1    394\n",
       "0     86\n",
       "Name: Gender, dtype: int64"
      ]
     },
     "execution_count": 117,
     "metadata": {},
     "output_type": "execute_result"
    }
   ],
   "source": [
    "X.Gender.value_counts()"
   ]
  },
  {
   "cell_type": "code",
   "execution_count": 161,
   "metadata": {},
   "outputs": [
    {
     "name": "stderr",
     "output_type": "stream",
     "text": [
      "C:\\Users\\vragha2x\\AppData\\Local\\Continuum\\anaconda3\\lib\\site-packages\\sklearn\\linear_model\\logistic.py:433: FutureWarning: Default solver will be changed to 'lbfgs' in 0.22. Specify a solver to silence this warning.\n",
      "  FutureWarning)\n"
     ]
    },
    {
     "data": {
      "text/plain": [
       "LogisticRegression(C=1.0, class_weight=None, dual=False, fit_intercept=True,\n",
       "          intercept_scaling=1, max_iter=100, multi_class='warn',\n",
       "          n_jobs=None, penalty='l2', random_state=None, solver='warn',\n",
       "          tol=0.0001, verbose=0, warm_start=False)"
      ]
     },
     "execution_count": 161,
     "metadata": {},
     "output_type": "execute_result"
    }
   ],
   "source": [
    "lr=LogisticRegression()\n",
    "lr.fit(X,y)"
   ]
  },
  {
   "cell_type": "code",
   "execution_count": 162,
   "metadata": {},
   "outputs": [
    {
     "data": {
      "text/plain": [
       "0.8104166666666667"
      ]
     },
     "execution_count": 162,
     "metadata": {},
     "output_type": "execute_result"
    }
   ],
   "source": [
    "#Accuracy Score\n",
    "lr.score(X,y)"
   ]
  },
  {
   "cell_type": "code",
   "execution_count": 163,
   "metadata": {},
   "outputs": [],
   "source": [
    "y_hat=lr.predict(X)"
   ]
  },
  {
   "cell_type": "code",
   "execution_count": 164,
   "metadata": {},
   "outputs": [
    {
     "name": "stdout",
     "output_type": "stream",
     "text": [
      "0.8104166666666667\n"
     ]
    }
   ],
   "source": [
    "c=0\n",
    "for i,j in zip(y,y_hat):\n",
    "    if i==j:\n",
    "        c+=1\n",
    "print(c/len(y))"
   ]
  },
  {
   "cell_type": "code",
   "execution_count": 165,
   "metadata": {},
   "outputs": [
    {
     "data": {
      "text/plain": [
       "0.8104166666666667"
      ]
     },
     "execution_count": 165,
     "metadata": {},
     "output_type": "execute_result"
    }
   ],
   "source": [
    "accuracy_score(y,y_hat)"
   ]
  },
  {
   "cell_type": "code",
   "execution_count": 166,
   "metadata": {},
   "outputs": [
    {
     "data": {
      "text/plain": [
       "array([1, 1, 1, 1, 1, 1, 0, 1, 1, 1, 1, 1, 1, 1, 0, 1, 0, 1, 0, 1, 1, 1,\n",
       "       1, 1, 1, 1, 1, 1, 1, 1, 1, 1, 1, 1, 1, 0, 1, 1, 1, 1, 1, 0, 1, 1,\n",
       "       1, 1, 1, 1, 1, 0, 0, 1, 0, 1, 1, 0, 1, 1, 1, 1, 1, 1, 1, 0, 1, 1,\n",
       "       1, 1, 1, 1, 1, 1, 1, 1, 1, 1, 1, 1, 1, 1, 1, 1, 1, 1, 0, 1, 1, 1,\n",
       "       1, 1, 1, 1, 0, 1, 1, 0, 1, 1, 1, 1, 1, 1, 1, 0, 1, 1, 1, 1, 1, 1,\n",
       "       1, 1, 1, 1, 1, 0, 1, 1, 1, 1, 0, 1, 1, 1, 1, 0, 1, 1, 1, 1, 0, 1,\n",
       "       1, 1, 1, 1, 1, 0, 1, 0, 0, 1, 1, 1, 1, 0, 1, 1, 1, 1, 1, 1, 1, 1,\n",
       "       1, 1, 0, 1, 1, 1, 1, 1, 1, 1, 1, 0, 1, 1, 1, 1, 1, 1, 0, 1, 1, 1,\n",
       "       1, 1, 1, 1, 1, 1, 1, 1, 1, 1, 1, 1, 1, 1, 1, 1, 1, 1, 1, 0, 1, 1,\n",
       "       1, 0, 1, 0, 1, 1, 1, 1, 1, 1, 1, 1, 0, 1, 1, 1, 1, 1, 1, 1, 1, 1,\n",
       "       1, 0, 1, 1, 1, 1, 1, 1, 1, 1, 1, 0, 1, 1, 1, 1, 1, 1, 0, 1, 1, 1,\n",
       "       1, 0, 1, 1, 1, 1, 1, 1, 1, 1, 1, 1, 0, 0, 1, 1, 1, 1, 1, 1, 1, 1,\n",
       "       1, 1, 1, 1, 1, 1, 1, 1, 1, 0, 1, 1, 1, 0, 1, 1, 1, 1, 1, 1, 1, 1,\n",
       "       1, 1, 1, 1, 0, 1, 1, 1, 1, 1, 1, 1, 1, 1, 1, 1, 1, 1, 1, 1, 0, 1,\n",
       "       1, 0, 0, 1, 1, 1, 1, 1, 1, 1, 0, 0, 1, 0, 1, 0, 1, 1, 1, 1, 1, 1,\n",
       "       1, 1, 1, 1, 1, 1, 1, 1, 0, 1, 1, 1, 0, 1, 1, 1, 1, 1, 1, 1, 0, 0,\n",
       "       0, 0, 1, 1, 1, 1, 1, 1, 1, 1, 0, 1, 0, 1, 1, 0, 1, 1, 1, 1, 1, 1,\n",
       "       1, 1, 1, 1, 1, 0, 1, 1, 1, 1, 1, 0, 1, 1, 1, 0, 1, 1, 1, 1, 1, 1,\n",
       "       1, 1, 1, 1, 1, 1, 1, 1, 1, 1, 1, 1, 1, 1, 1, 1, 0, 1, 1, 1, 0, 1,\n",
       "       1, 1, 1, 1, 1, 0, 1, 1, 1, 1, 0, 1, 1, 0, 0, 1, 1, 1, 1, 1, 1, 1,\n",
       "       1, 0, 1, 0, 1, 0, 1, 1, 1, 1, 1, 1, 1, 1, 0, 1, 0, 1, 1, 1, 0, 1,\n",
       "       1, 1, 1, 1, 1, 1, 1, 1, 1, 1, 1, 1, 1, 1, 1, 1, 1, 0], dtype=int64)"
      ]
     },
     "execution_count": 166,
     "metadata": {},
     "output_type": "execute_result"
    }
   ],
   "source": [
    "y_hat"
   ]
  },
  {
   "cell_type": "code",
   "execution_count": 167,
   "metadata": {},
   "outputs": [
    {
     "name": "stdout",
     "output_type": "stream",
     "text": [
      "0 1\n",
      "1 1\n",
      "1 1\n",
      "1 1\n",
      "1 1\n",
      "1 1\n",
      "0 0\n",
      "1 1\n",
      "0 1\n",
      "1 1\n",
      "1 1\n",
      "0 1\n",
      "1 1\n",
      "1 1\n",
      "0 0\n",
      "0 1\n",
      "0 0\n",
      "1 1\n",
      "0 0\n",
      "1 1\n",
      "1 1\n",
      "1 1\n",
      "0 1\n",
      "0 1\n",
      "0 1\n",
      "1 1\n",
      "0 1\n",
      "1 1\n",
      "1 1\n",
      "1 1\n",
      "0 1\n",
      "1 1\n",
      "1 1\n",
      "1 1\n",
      "1 1\n",
      "0 0\n",
      "1 1\n",
      "1 1\n",
      "1 1\n",
      "0 1\n",
      "0 1\n",
      "0 0\n",
      "1 1\n",
      "1 1\n",
      "0 1\n",
      "1 1\n",
      "1 1\n",
      "1 1\n",
      "1 1\n",
      "0 0\n",
      "0 0\n",
      "0 1\n",
      "0 0\n",
      "1 1\n",
      "1 1\n",
      "0 0\n",
      "1 1\n",
      "1 1\n",
      "1 1\n",
      "1 1\n",
      "0 1\n",
      "0 1\n",
      "0 1\n",
      "0 0\n",
      "1 1\n",
      "0 1\n",
      "1 1\n",
      "1 1\n",
      "1 1\n",
      "1 1\n",
      "1 1\n",
      "1 1\n",
      "1 1\n",
      "1 1\n",
      "1 1\n",
      "1 1\n",
      "1 1\n",
      "1 1\n",
      "1 1\n",
      "1 1\n",
      "1 1\n",
      "1 1\n",
      "1 1\n",
      "1 1\n",
      "0 0\n",
      "1 1\n",
      "1 1\n",
      "1 1\n",
      "1 1\n",
      "0 1\n",
      "1 1\n",
      "1 1\n",
      "1 0\n",
      "1 1\n",
      "1 1\n",
      "0 0\n",
      "1 1\n",
      "1 1\n",
      "1 1\n",
      "1 1\n",
      "0 1\n",
      "0 1\n",
      "1 1\n",
      "0 0\n",
      "0 1\n",
      "0 1\n",
      "1 1\n",
      "1 1\n",
      "1 1\n",
      "1 1\n",
      "1 1\n",
      "1 1\n",
      "1 1\n",
      "0 1\n",
      "1 1\n",
      "0 0\n",
      "1 1\n",
      "0 1\n",
      "0 1\n",
      "1 1\n",
      "1 0\n",
      "1 1\n",
      "1 1\n",
      "1 1\n",
      "0 1\n",
      "0 0\n",
      "1 1\n",
      "1 1\n",
      "0 1\n",
      "1 1\n",
      "0 0\n",
      "1 1\n",
      "0 1\n",
      "1 1\n",
      "0 1\n",
      "1 1\n",
      "1 1\n",
      "0 0\n",
      "1 1\n",
      "0 0\n",
      "0 0\n",
      "1 1\n",
      "0 1\n",
      "1 1\n",
      "1 1\n",
      "0 0\n",
      "1 1\n",
      "1 1\n",
      "0 1\n",
      "0 1\n",
      "1 1\n",
      "1 1\n",
      "0 1\n",
      "1 1\n",
      "0 1\n",
      "1 1\n",
      "1 0\n",
      "1 1\n",
      "1 1\n",
      "1 1\n",
      "1 1\n",
      "1 1\n",
      "1 1\n",
      "0 1\n",
      "0 1\n",
      "0 0\n",
      "1 1\n",
      "1 1\n",
      "1 1\n",
      "1 1\n",
      "0 1\n",
      "1 1\n",
      "0 0\n",
      "1 1\n",
      "1 1\n",
      "1 1\n",
      "0 1\n",
      "1 1\n",
      "1 1\n",
      "1 1\n",
      "1 1\n",
      "1 1\n",
      "1 1\n",
      "1 1\n",
      "1 1\n",
      "1 1\n",
      "0 1\n",
      "1 1\n",
      "1 1\n",
      "1 1\n",
      "0 1\n",
      "1 1\n",
      "1 1\n",
      "1 1\n",
      "1 1\n",
      "0 0\n",
      "0 1\n",
      "1 1\n",
      "1 1\n",
      "0 0\n",
      "1 1\n",
      "0 0\n",
      "0 1\n",
      "0 1\n",
      "1 1\n",
      "0 1\n",
      "1 1\n",
      "1 1\n",
      "1 1\n",
      "1 1\n",
      "1 0\n",
      "1 1\n",
      "1 1\n",
      "1 1\n",
      "1 1\n",
      "1 1\n",
      "1 1\n",
      "1 1\n",
      "1 1\n",
      "1 1\n",
      "1 1\n",
      "0 0\n",
      "1 1\n",
      "1 1\n",
      "1 1\n",
      "1 1\n",
      "0 1\n",
      "1 1\n",
      "1 1\n",
      "1 1\n",
      "1 1\n",
      "0 0\n",
      "1 1\n",
      "1 1\n",
      "1 1\n",
      "1 1\n",
      "0 1\n",
      "0 1\n",
      "0 0\n",
      "1 1\n",
      "1 1\n",
      "1 1\n",
      "1 1\n",
      "0 0\n",
      "0 1\n",
      "1 1\n",
      "1 1\n",
      "1 1\n",
      "1 1\n",
      "1 1\n",
      "0 1\n",
      "1 1\n",
      "1 1\n",
      "1 1\n",
      "0 0\n",
      "1 0\n",
      "1 1\n",
      "0 1\n",
      "1 1\n",
      "1 1\n",
      "1 1\n",
      "1 1\n",
      "1 1\n",
      "0 1\n",
      "0 1\n",
      "1 1\n",
      "1 1\n",
      "1 1\n",
      "1 1\n",
      "1 1\n",
      "1 1\n",
      "0 1\n",
      "1 1\n",
      "0 0\n",
      "1 1\n",
      "1 1\n",
      "0 1\n",
      "0 0\n",
      "1 1\n",
      "0 1\n",
      "1 1\n",
      "1 1\n",
      "1 1\n",
      "0 1\n",
      "0 1\n",
      "1 1\n",
      "0 1\n",
      "1 1\n",
      "1 1\n",
      "1 1\n",
      "0 0\n",
      "1 1\n",
      "1 1\n",
      "0 1\n",
      "1 1\n",
      "1 1\n",
      "1 1\n",
      "1 1\n",
      "0 1\n",
      "1 1\n",
      "1 1\n",
      "1 1\n",
      "1 1\n",
      "1 1\n",
      "1 1\n",
      "1 1\n",
      "0 0\n",
      "1 1\n",
      "1 1\n",
      "0 0\n",
      "0 0\n",
      "0 1\n",
      "1 1\n",
      "1 1\n",
      "0 1\n",
      "1 1\n",
      "1 1\n",
      "1 1\n",
      "0 0\n",
      "0 0\n",
      "0 1\n",
      "0 0\n",
      "1 1\n",
      "0 0\n",
      "1 1\n",
      "0 1\n",
      "0 1\n",
      "1 1\n",
      "1 1\n",
      "1 1\n",
      "1 1\n",
      "1 1\n",
      "1 1\n",
      "0 1\n",
      "1 1\n",
      "1 1\n",
      "1 1\n",
      "1 1\n",
      "0 0\n",
      "1 1\n",
      "1 1\n",
      "1 1\n",
      "0 0\n",
      "1 1\n",
      "1 1\n",
      "1 1\n",
      "1 1\n",
      "1 1\n",
      "1 1\n",
      "1 1\n",
      "0 0\n",
      "0 0\n",
      "0 0\n",
      "1 0\n",
      "1 1\n",
      "1 1\n",
      "1 1\n",
      "0 1\n",
      "1 1\n",
      "0 1\n",
      "1 1\n",
      "1 1\n",
      "0 0\n",
      "1 1\n",
      "0 0\n",
      "0 1\n",
      "1 1\n",
      "0 0\n",
      "1 1\n",
      "1 1\n",
      "1 1\n",
      "1 1\n",
      "1 1\n",
      "1 1\n",
      "1 1\n",
      "1 1\n",
      "1 1\n",
      "1 1\n",
      "1 1\n",
      "0 0\n",
      "0 1\n",
      "1 1\n",
      "0 1\n",
      "1 1\n",
      "1 1\n",
      "0 0\n",
      "1 1\n",
      "1 1\n",
      "1 1\n",
      "0 0\n",
      "1 1\n",
      "1 1\n",
      "1 1\n",
      "1 1\n",
      "1 1\n",
      "1 1\n",
      "1 1\n",
      "0 1\n",
      "1 1\n",
      "1 1\n",
      "0 1\n",
      "0 1\n",
      "1 1\n",
      "1 1\n",
      "0 1\n",
      "0 1\n",
      "1 1\n",
      "1 1\n",
      "1 1\n",
      "1 1\n",
      "1 1\n",
      "1 1\n",
      "1 0\n",
      "1 1\n",
      "1 1\n",
      "1 1\n",
      "0 0\n",
      "1 1\n",
      "1 1\n",
      "1 1\n",
      "0 1\n",
      "1 1\n",
      "1 1\n",
      "0 0\n",
      "1 1\n",
      "1 1\n",
      "0 1\n",
      "1 1\n",
      "0 0\n",
      "1 1\n",
      "1 1\n",
      "0 0\n",
      "0 0\n",
      "1 1\n",
      "1 1\n",
      "1 1\n",
      "1 1\n",
      "1 1\n",
      "1 1\n",
      "1 1\n",
      "1 1\n",
      "0 0\n",
      "1 1\n",
      "0 0\n",
      "0 1\n",
      "0 0\n",
      "1 1\n",
      "1 1\n",
      "0 1\n",
      "0 1\n",
      "1 1\n",
      "1 1\n",
      "1 1\n",
      "1 1\n",
      "0 0\n",
      "1 1\n",
      "0 0\n",
      "0 1\n",
      "1 1\n",
      "1 1\n",
      "0 0\n",
      "1 1\n",
      "0 1\n",
      "1 1\n",
      "1 1\n",
      "1 1\n",
      "0 1\n",
      "1 1\n",
      "1 1\n",
      "1 1\n",
      "1 1\n",
      "1 1\n",
      "1 1\n",
      "1 1\n",
      "1 1\n",
      "1 1\n",
      "1 1\n",
      "1 1\n",
      "1 1\n",
      "0 0\n"
     ]
    }
   ],
   "source": [
    "for i,j in zip(y,y_hat):\n",
    "    print(i,j)"
   ]
  },
  {
   "cell_type": "code",
   "execution_count": 168,
   "metadata": {},
   "outputs": [
    {
     "name": "stdout",
     "output_type": "stream",
     "text": [
      "1    332\n",
      "0    148\n",
      "Name: Loan_Status, dtype: int64\n"
     ]
    },
    {
     "data": {
      "text/plain": [
       "array([[325,   7],\n",
       "       [ 84,  64]], dtype=int64)"
      ]
     },
     "execution_count": 168,
     "metadata": {},
     "output_type": "execute_result"
    }
   ],
   "source": [
    "print(y.value_counts())\n",
    "confusion_matrix(y,y_hat,labels=[1,0])"
   ]
  },
  {
   "cell_type": "markdown",
   "metadata": {},
   "source": [
    "Where as Accuracy Score is (TP+TN)/(TP+FP+FN+TN).. So 389/480 = 0.8104166666666667"
   ]
  },
  {
   "cell_type": "code",
   "execution_count": 169,
   "metadata": {},
   "outputs": [
    {
     "name": "stdout",
     "output_type": "stream",
     "text": [
      "precision: 0.7946210268948656\n",
      "recall: 0.9789156626506024\n",
      "f1_score: 0.8771929824561404\n"
     ]
    }
   ],
   "source": [
    "# Accuracy works best if false positives and false negatives have similar cost. If the cost of false positives and false negatives are very different, it’s better to look at both Precision and Recall.\n",
    "\n",
    "print(\"precision:\",precision_score(y,y_hat)) #Precision = TP/TP+FP.. High precision relates to the low false positive rate\n",
    "print(\"recall:\",recall_score(y,y_hat)) #Recall(Sensitivity) = TP/TP+FN.. Of all predicted, how many did we label. We have got recall of 0.978 which is good for this model as it’s above 0.5.\n",
    "print(\"f1_score:\",f1_score(y,y_hat)) #F1 Score = 2*(Recall * Precision) / (Recall + Precision)... F1 is usually more useful than accuracy, especially if you have an uneven class distribution.."
   ]
  },
  {
   "cell_type": "code",
   "execution_count": 170,
   "metadata": {},
   "outputs": [
    {
     "name": "stdout",
     "output_type": "stream",
     "text": [
      "              precision    recall  f1-score   support\n",
      "\n",
      "           0       0.90      0.43      0.58       148\n",
      "           1       0.79      0.98      0.88       332\n",
      "\n",
      "   micro avg       0.81      0.81      0.81       480\n",
      "   macro avg       0.85      0.71      0.73       480\n",
      "weighted avg       0.83      0.81      0.79       480\n",
      "\n"
     ]
    }
   ],
   "source": [
    "print(classification_report(y,y_hat))"
   ]
  },
  {
   "cell_type": "markdown",
   "metadata": {},
   "source": [
    "#### Probability Calibration"
   ]
  },
  {
   "cell_type": "code",
   "execution_count": 171,
   "metadata": {},
   "outputs": [
    {
     "data": {
      "text/plain": [
       "array([1, 1, 1, 1, 1, 1, 0, 1, 1, 1, 1, 1, 1, 1, 0, 1, 0, 1, 0, 1, 1, 1,\n",
       "       1, 1, 1, 1, 1, 1, 1, 1, 1, 1, 1, 1, 1, 0, 1, 1, 1, 1, 1, 0, 1, 1,\n",
       "       1, 1, 1, 1, 1, 0, 0, 1, 0, 1, 1, 0, 1, 1, 1, 1, 1, 1, 1, 0, 1, 1,\n",
       "       1, 1, 1, 1, 1, 1, 1, 1, 1, 1, 1, 1, 1, 1, 1, 1, 1, 1, 0, 1, 1, 1,\n",
       "       1, 1, 1, 1, 0, 1, 1, 0, 1, 1, 1, 1, 1, 1, 1, 0, 1, 1, 1, 1, 1, 1,\n",
       "       1, 1, 1, 1, 1, 0, 1, 1, 1, 1, 0, 1, 1, 1, 1, 0, 1, 1, 1, 1, 0, 1,\n",
       "       1, 1, 1, 1, 1, 0, 1, 0, 0, 1, 1, 1, 1, 0, 1, 1, 1, 1, 1, 1, 1, 1,\n",
       "       1, 1, 0, 1, 1, 1, 1, 1, 1, 1, 1, 0, 1, 1, 1, 1, 1, 1, 0, 1, 1, 1,\n",
       "       1, 1, 1, 1, 1, 1, 1, 1, 1, 1, 1, 1, 1, 1, 1, 1, 1, 1, 1, 0, 1, 1,\n",
       "       1, 0, 1, 0, 1, 1, 1, 1, 1, 1, 1, 1, 0, 1, 1, 1, 1, 1, 1, 1, 1, 1,\n",
       "       1, 0, 1, 1, 1, 1, 1, 1, 1, 1, 1, 0, 1, 1, 1, 1, 1, 1, 0, 1, 1, 1,\n",
       "       1, 0, 1, 1, 1, 1, 1, 1, 1, 1, 1, 1, 0, 0, 1, 1, 1, 1, 1, 1, 1, 1,\n",
       "       1, 1, 1, 1, 1, 1, 1, 1, 1, 0, 1, 1, 1, 0, 1, 1, 1, 1, 1, 1, 1, 1,\n",
       "       1, 1, 1, 1, 0, 1, 1, 1, 1, 1, 1, 1, 1, 1, 1, 1, 1, 1, 1, 1, 0, 1,\n",
       "       1, 0, 0, 1, 1, 1, 1, 1, 1, 1, 0, 0, 1, 0, 1, 0, 1, 1, 1, 1, 1, 1,\n",
       "       1, 1, 1, 1, 1, 1, 1, 1, 0, 1, 1, 1, 0, 1, 1, 1, 1, 1, 1, 1, 0, 0,\n",
       "       0, 0, 1, 1, 1, 1, 1, 1, 1, 1, 0, 1, 0, 1, 1, 0, 1, 1, 1, 1, 1, 1,\n",
       "       1, 1, 1, 1, 1, 0, 1, 1, 1, 1, 1, 0, 1, 1, 1, 0, 1, 1, 1, 1, 1, 1,\n",
       "       1, 1, 1, 1, 1, 1, 1, 1, 1, 1, 1, 1, 1, 1, 1, 1, 0, 1, 1, 1, 0, 1,\n",
       "       1, 1, 1, 1, 1, 0, 1, 1, 1, 1, 0, 1, 1, 0, 0, 1, 1, 1, 1, 1, 1, 1,\n",
       "       1, 0, 1, 0, 1, 0, 1, 1, 1, 1, 1, 1, 1, 1, 0, 1, 0, 1, 1, 1, 0, 1,\n",
       "       1, 1, 1, 1, 1, 1, 1, 1, 1, 1, 1, 1, 1, 1, 1, 1, 1, 0], dtype=int64)"
      ]
     },
     "execution_count": 171,
     "metadata": {},
     "output_type": "execute_result"
    }
   ],
   "source": [
    "lr.predict(X)"
   ]
  },
  {
   "cell_type": "code",
   "execution_count": 172,
   "metadata": {},
   "outputs": [
    {
     "data": {
      "text/plain": [
       "array([[0.2659693 , 0.7340307 ],\n",
       "       [0.26015764, 0.73984236],\n",
       "       [0.23959745, 0.76040255],\n",
       "       [0.30798262, 0.69201738],\n",
       "       [0.26630777, 0.73369223],\n",
       "       [0.23380383, 0.76619617],\n",
       "       [0.52023752, 0.47976248],\n",
       "       [0.22067666, 0.77932334],\n",
       "       [0.22200642, 0.77799358],\n",
       "       [0.21254485, 0.78745515],\n",
       "       [0.25050974, 0.74949026],\n",
       "       [0.33202253, 0.66797747],\n",
       "       [0.20519379, 0.79480621],\n",
       "       [0.30145004, 0.69854996],\n",
       "       [0.75070771, 0.24929229],\n",
       "       [0.26745459, 0.73254541],\n",
       "       [0.72291104, 0.27708896],\n",
       "       [0.26837636, 0.73162364],\n",
       "       [0.56370571, 0.43629429],\n",
       "       [0.18804502, 0.81195498],\n",
       "       [0.15140889, 0.84859111],\n",
       "       [0.21285001, 0.78714999],\n",
       "       [0.27255225, 0.72744775],\n",
       "       [0.29054004, 0.70945996],\n",
       "       [0.34256638, 0.65743362],\n",
       "       [0.15184331, 0.84815669],\n",
       "       [0.3485497 , 0.6514503 ],\n",
       "       [0.14550153, 0.85449847],\n",
       "       [0.34260788, 0.65739212],\n",
       "       [0.18614332, 0.81385668],\n",
       "       [0.29316803, 0.70683197],\n",
       "       [0.28960873, 0.71039127],\n",
       "       [0.15608914, 0.84391086],\n",
       "       [0.23558341, 0.76441659],\n",
       "       [0.25147648, 0.74852352],\n",
       "       [0.71137673, 0.28862327],\n",
       "       [0.18836682, 0.81163318],\n",
       "       [0.13537401, 0.86462599],\n",
       "       [0.17446512, 0.82553488],\n",
       "       [0.17935677, 0.82064323],\n",
       "       [0.21608528, 0.78391472],\n",
       "       [0.75181231, 0.24818769],\n",
       "       [0.12778965, 0.87221035],\n",
       "       [0.14646234, 0.85353766],\n",
       "       [0.27901685, 0.72098315],\n",
       "       [0.26123029, 0.73876971],\n",
       "       [0.21756162, 0.78243838],\n",
       "       [0.25411128, 0.74588872],\n",
       "       [0.19521475, 0.80478525],\n",
       "       [0.76660635, 0.23339365],\n",
       "       [0.62513394, 0.37486606],\n",
       "       [0.17237869, 0.82762131],\n",
       "       [0.76316204, 0.23683796],\n",
       "       [0.2636176 , 0.7363824 ],\n",
       "       [0.23027297, 0.76972703],\n",
       "       [0.62605564, 0.37394436],\n",
       "       [0.25398885, 0.74601115],\n",
       "       [0.13774324, 0.86225676],\n",
       "       [0.18343574, 0.81656426],\n",
       "       [0.14424167, 0.85575833],\n",
       "       [0.29408166, 0.70591834],\n",
       "       [0.32384622, 0.67615378],\n",
       "       [0.25041866, 0.74958134],\n",
       "       [0.53214894, 0.46785106],\n",
       "       [0.17770297, 0.82229703],\n",
       "       [0.2014293 , 0.7985707 ],\n",
       "       [0.2269129 , 0.7730871 ],\n",
       "       [0.1896607 , 0.8103393 ],\n",
       "       [0.14977862, 0.85022138],\n",
       "       [0.32427076, 0.67572924],\n",
       "       [0.17046417, 0.82953583],\n",
       "       [0.15447517, 0.84552483],\n",
       "       [0.15645268, 0.84354732],\n",
       "       [0.21200006, 0.78799994],\n",
       "       [0.18623652, 0.81376348],\n",
       "       [0.17828512, 0.82171488],\n",
       "       [0.14426453, 0.85573547],\n",
       "       [0.14373399, 0.85626601],\n",
       "       [0.14340921, 0.85659079],\n",
       "       [0.152347  , 0.847653  ],\n",
       "       [0.22430913, 0.77569087],\n",
       "       [0.20717581, 0.79282419],\n",
       "       [0.22739752, 0.77260248],\n",
       "       [0.25810528, 0.74189472],\n",
       "       [0.695745  , 0.304255  ],\n",
       "       [0.11194603, 0.88805397],\n",
       "       [0.30371817, 0.69628183],\n",
       "       [0.31739036, 0.68260964],\n",
       "       [0.1466885 , 0.8533115 ],\n",
       "       [0.291857  , 0.708143  ],\n",
       "       [0.32540795, 0.67459205],\n",
       "       [0.1790803 , 0.8209197 ],\n",
       "       [0.67162035, 0.32837965],\n",
       "       [0.12481492, 0.87518508],\n",
       "       [0.27574446, 0.72425554],\n",
       "       [0.77578764, 0.22421236],\n",
       "       [0.29525964, 0.70474036],\n",
       "       [0.18002093, 0.81997907],\n",
       "       [0.16220293, 0.83779707],\n",
       "       [0.18965167, 0.81034833],\n",
       "       [0.14546418, 0.85453582],\n",
       "       [0.26364311, 0.73635689],\n",
       "       [0.25056998, 0.74943002],\n",
       "       [0.70649696, 0.29350304],\n",
       "       [0.24081002, 0.75918998],\n",
       "       [0.25615521, 0.74384479],\n",
       "       [0.30434576, 0.69565424],\n",
       "       [0.22037527, 0.77962473],\n",
       "       [0.15020544, 0.84979456],\n",
       "       [0.25371012, 0.74628988],\n",
       "       [0.15178116, 0.84821884],\n",
       "       [0.26182018, 0.73817982],\n",
       "       [0.22167601, 0.77832399],\n",
       "       [0.36744637, 0.63255363],\n",
       "       [0.15383189, 0.84616811],\n",
       "       [0.79922423, 0.20077577],\n",
       "       [0.31033589, 0.68966411],\n",
       "       [0.3281435 , 0.6718565 ],\n",
       "       [0.22329068, 0.77670932],\n",
       "       [0.29106695, 0.70893305],\n",
       "       [0.74893312, 0.25106688],\n",
       "       [0.25676671, 0.74323329],\n",
       "       [0.17190578, 0.82809422],\n",
       "       [0.13883923, 0.86116077],\n",
       "       [0.26333013, 0.73666987],\n",
       "       [0.55208381, 0.44791619],\n",
       "       [0.24779232, 0.75220768],\n",
       "       [0.27132467, 0.72867533],\n",
       "       [0.26364311, 0.73635689],\n",
       "       [0.28023542, 0.71976458],\n",
       "       [0.6233184 , 0.3766816 ],\n",
       "       [0.14191087, 0.85808913],\n",
       "       [0.21561733, 0.78438267],\n",
       "       [0.17665986, 0.82334014],\n",
       "       [0.16347217, 0.83652783],\n",
       "       [0.27839698, 0.72160302],\n",
       "       [0.23727352, 0.76272648],\n",
       "       [0.60159841, 0.39840159],\n",
       "       [0.13668836, 0.86331164],\n",
       "       [0.75418386, 0.24581614],\n",
       "       [0.74873945, 0.25126055],\n",
       "       [0.14971132, 0.85028868],\n",
       "       [0.27702605, 0.72297395],\n",
       "       [0.14010634, 0.85989366],\n",
       "       [0.38831273, 0.61168727],\n",
       "       [0.73737198, 0.26262802],\n",
       "       [0.3017734 , 0.6982266 ],\n",
       "       [0.3248206 , 0.6751794 ],\n",
       "       [0.22380529, 0.77619471],\n",
       "       [0.24548864, 0.75451136],\n",
       "       [0.18501572, 0.81498428],\n",
       "       [0.32876115, 0.67123885],\n",
       "       [0.14361637, 0.85638363],\n",
       "       [0.38177192, 0.61822808],\n",
       "       [0.36951699, 0.63048301],\n",
       "       [0.13684803, 0.86315197],\n",
       "       [0.6034947 , 0.3965053 ],\n",
       "       [0.22328151, 0.77671849],\n",
       "       [0.12371576, 0.87628424],\n",
       "       [0.1745415 , 0.8254585 ],\n",
       "       [0.28101969, 0.71898031],\n",
       "       [0.33534628, 0.66465372],\n",
       "       [0.28639313, 0.71360687],\n",
       "       [0.18307532, 0.81692468],\n",
       "       [0.20566322, 0.79433678],\n",
       "       [0.51393121, 0.48606879],\n",
       "       [0.27173924, 0.72826076],\n",
       "       [0.24994655, 0.75005345],\n",
       "       [0.25354396, 0.74645604],\n",
       "       [0.11794376, 0.88205624],\n",
       "       [0.25816414, 0.74183586],\n",
       "       [0.15311462, 0.84688538],\n",
       "       [0.6979418 , 0.3020582 ],\n",
       "       [0.13397183, 0.86602817],\n",
       "       [0.19359552, 0.80640448],\n",
       "       [0.15598472, 0.84401528],\n",
       "       [0.26554271, 0.73445729],\n",
       "       [0.14171431, 0.85828569],\n",
       "       [0.37274073, 0.62725927],\n",
       "       [0.13946677, 0.86053323],\n",
       "       [0.197781  , 0.802219  ],\n",
       "       [0.14084342, 0.85915658],\n",
       "       [0.26982239, 0.73017761],\n",
       "       [0.29836937, 0.70163063],\n",
       "       [0.13518791, 0.86481209],\n",
       "       [0.27736509, 0.72263491],\n",
       "       [0.22282349, 0.77717651],\n",
       "       [0.32491457, 0.67508543],\n",
       "       [0.28391544, 0.71608456],\n",
       "       [0.15702777, 0.84297223],\n",
       "       [0.36530579, 0.63469421],\n",
       "       [0.24245987, 0.75754013],\n",
       "       [0.23376408, 0.76623592],\n",
       "       [0.14010237, 0.85989763],\n",
       "       [0.23981124, 0.76018876],\n",
       "       [0.5712522 , 0.4287478 ],\n",
       "       [0.25039201, 0.74960799],\n",
       "       [0.35269281, 0.64730719],\n",
       "       [0.15383762, 0.84616238],\n",
       "       [0.83941369, 0.16058631],\n",
       "       [0.2613487 , 0.7386513 ],\n",
       "       [0.79188868, 0.20811132],\n",
       "       [0.20566568, 0.79433432],\n",
       "       [0.34979488, 0.65020512],\n",
       "       [0.18684255, 0.81315745],\n",
       "       [0.16466075, 0.83533925],\n",
       "       [0.3375262 , 0.6624738 ],\n",
       "       [0.21150616, 0.78849384],\n",
       "       [0.35083138, 0.64916862],\n",
       "       [0.13523407, 0.86476593],\n",
       "       [0.67017776, 0.32982224],\n",
       "       [0.27177249, 0.72822751],\n",
       "       [0.28097815, 0.71902185],\n",
       "       [0.28203752, 0.71796248],\n",
       "       [0.33200299, 0.66799701],\n",
       "       [0.15062199, 0.84937801],\n",
       "       [0.1278715 , 0.8721285 ],\n",
       "       [0.1396325 , 0.8603675 ],\n",
       "       [0.15995715, 0.84004285],\n",
       "       [0.24371944, 0.75628056],\n",
       "       [0.19097265, 0.80902735],\n",
       "       [0.77684901, 0.22315099],\n",
       "       [0.1501867 , 0.8498133 ],\n",
       "       [0.20954655, 0.79045345],\n",
       "       [0.28240424, 0.71759576],\n",
       "       [0.34198217, 0.65801783],\n",
       "       [0.19945401, 0.80054599],\n",
       "       [0.27983281, 0.72016719],\n",
       "       [0.17889905, 0.82110095],\n",
       "       [0.3640908 , 0.6359092 ],\n",
       "       [0.278574  , 0.721426  ],\n",
       "       [0.53214569, 0.46785431],\n",
       "       [0.21656819, 0.78343181],\n",
       "       [0.15393513, 0.84606487],\n",
       "       [0.14788302, 0.85211698],\n",
       "       [0.2218664 , 0.7781336 ],\n",
       "       [0.33976897, 0.66023103],\n",
       "       [0.23184936, 0.76815064],\n",
       "       [0.70537403, 0.29462597],\n",
       "       [0.32323512, 0.67676488],\n",
       "       [0.224041  , 0.775959  ],\n",
       "       [0.34389453, 0.65610547],\n",
       "       [0.32599069, 0.67400931],\n",
       "       [0.75482306, 0.24517694],\n",
       "       [0.43962156, 0.56037844],\n",
       "       [0.17375148, 0.82624852],\n",
       "       [0.18576991, 0.81423009],\n",
       "       [0.30743162, 0.69256838],\n",
       "       [0.22561249, 0.77438751],\n",
       "       [0.12727338, 0.87272662],\n",
       "       [0.31606165, 0.68393835],\n",
       "       [0.149588  , 0.850412  ],\n",
       "       [0.12103935, 0.87896065],\n",
       "       [0.28576702, 0.71423298],\n",
       "       [0.79725338, 0.20274662],\n",
       "       [0.7927389 , 0.2072611 ],\n",
       "       [0.18105426, 0.81894574],\n",
       "       [0.24761349, 0.75238651],\n",
       "       [0.27662642, 0.72337358],\n",
       "       [0.29201586, 0.70798414],\n",
       "       [0.18096352, 0.81903648],\n",
       "       [0.28123645, 0.71876355],\n",
       "       [0.1790544 , 0.8209456 ],\n",
       "       [0.21917459, 0.78082541],\n",
       "       [0.30662562, 0.69337438],\n",
       "       [0.22945255, 0.77054745],\n",
       "       [0.11296603, 0.88703397],\n",
       "       [0.15105079, 0.84894921],\n",
       "       [0.21277621, 0.78722379],\n",
       "       [0.29897779, 0.70102221],\n",
       "       [0.16725365, 0.83274635],\n",
       "       [0.38756897, 0.61243103],\n",
       "       [0.228453  , 0.771547  ],\n",
       "       [0.76174038, 0.23825962],\n",
       "       [0.1376585 , 0.8623415 ],\n",
       "       [0.28139126, 0.71860874],\n",
       "       [0.22633131, 0.77366869],\n",
       "       [0.70495886, 0.29504114],\n",
       "       [0.13343252, 0.86656748],\n",
       "       [0.16973907, 0.83026093],\n",
       "       [0.14431284, 0.85568716],\n",
       "       [0.25851661, 0.74148339],\n",
       "       [0.37564273, 0.62435727],\n",
       "       [0.33345077, 0.66654923],\n",
       "       [0.17907786, 0.82092214],\n",
       "       [0.14585927, 0.85414073],\n",
       "       [0.40642724, 0.59357276],\n",
       "       [0.25851519, 0.74148481],\n",
       "       [0.13213923, 0.86786077],\n",
       "       [0.34482762, 0.65517238],\n",
       "       [0.75310644, 0.24689356],\n",
       "       [0.25102899, 0.74897101],\n",
       "       [0.27831046, 0.72168954],\n",
       "       [0.28994718, 0.71005282],\n",
       "       [0.21996538, 0.78003462],\n",
       "       [0.21462325, 0.78537675],\n",
       "       [0.29765795, 0.70234205],\n",
       "       [0.34369955, 0.65630045],\n",
       "       [0.21583666, 0.78416334],\n",
       "       [0.17969195, 0.82030805],\n",
       "       [0.24560259, 0.75439741],\n",
       "       [0.27855629, 0.72144371],\n",
       "       [0.30759276, 0.69240724],\n",
       "       [0.25399268, 0.74600732],\n",
       "       [0.122767  , 0.877233  ],\n",
       "       [0.21550881, 0.78449119],\n",
       "       [0.7488897 , 0.2511103 ],\n",
       "       [0.2442015 , 0.7557985 ],\n",
       "       [0.32923475, 0.67076525],\n",
       "       [0.61915563, 0.38084437],\n",
       "       [0.6584407 , 0.3415593 ],\n",
       "       [0.3112556 , 0.6887444 ],\n",
       "       [0.28185474, 0.71814526],\n",
       "       [0.16443713, 0.83556287],\n",
       "       [0.36846346, 0.63153654],\n",
       "       [0.18073105, 0.81926895],\n",
       "       [0.23760217, 0.76239783],\n",
       "       [0.29753156, 0.70246844],\n",
       "       [0.58042857, 0.41957143],\n",
       "       [0.95504673, 0.04495327],\n",
       "       [0.1790994 , 0.8209006 ],\n",
       "       [0.74305662, 0.25694338],\n",
       "       [0.26401094, 0.73598906],\n",
       "       [0.55798866, 0.44201134],\n",
       "       [0.27954464, 0.72045536],\n",
       "       [0.26123395, 0.73876605],\n",
       "       [0.34042021, 0.65957979],\n",
       "       [0.2686931 , 0.7313069 ],\n",
       "       [0.14994698, 0.85005302],\n",
       "       [0.28057317, 0.71942683],\n",
       "       [0.23907323, 0.76092677],\n",
       "       [0.19232382, 0.80767618],\n",
       "       [0.28736203, 0.71263797],\n",
       "       [0.29524387, 0.70475613],\n",
       "       [0.13468553, 0.86531447],\n",
       "       [0.26374891, 0.73625109],\n",
       "       [0.28003869, 0.71996131],\n",
       "       [0.20677543, 0.79322457],\n",
       "       [0.80027301, 0.19972699],\n",
       "       [0.15032918, 0.84967082],\n",
       "       [0.29408166, 0.70591834],\n",
       "       [0.18465732, 0.81534268],\n",
       "       [0.81495723, 0.18504277],\n",
       "       [0.29696011, 0.70303989],\n",
       "       [0.20753781, 0.79246219],\n",
       "       [0.30429152, 0.69570848],\n",
       "       [0.15692445, 0.84307555],\n",
       "       [0.36132986, 0.63867014],\n",
       "       [0.28327439, 0.71672561],\n",
       "       [0.2355985 , 0.7644015 ],\n",
       "       [0.7123867 , 0.2876133 ],\n",
       "       [0.69531223, 0.30468777],\n",
       "       [0.748009  , 0.251991  ],\n",
       "       [0.74393559, 0.25606441],\n",
       "       [0.22105715, 0.77894285],\n",
       "       [0.12773729, 0.87226271],\n",
       "       [0.24316776, 0.75683224],\n",
       "       [0.25400554, 0.74599446],\n",
       "       [0.29494348, 0.70505652],\n",
       "       [0.16421251, 0.83578749],\n",
       "       [0.21786867, 0.78213133],\n",
       "       [0.27687747, 0.72312253],\n",
       "       [0.63652309, 0.36347691],\n",
       "       [0.34058918, 0.65941082],\n",
       "       [0.65150889, 0.34849111],\n",
       "       [0.25683708, 0.74316292],\n",
       "       [0.15944236, 0.84055764],\n",
       "       [0.7157779 , 0.2842221 ],\n",
       "       [0.12154012, 0.87845988],\n",
       "       [0.33172228, 0.66827772],\n",
       "       [0.3471068 , 0.6528932 ],\n",
       "       [0.1435277 , 0.8564723 ],\n",
       "       [0.21938978, 0.78061022],\n",
       "       [0.31081235, 0.68918765],\n",
       "       [0.21350414, 0.78649586],\n",
       "       [0.15209309, 0.84790691],\n",
       "       [0.1745343 , 0.8254657 ],\n",
       "       [0.14310586, 0.85689414],\n",
       "       [0.24912267, 0.75087733],\n",
       "       [0.75745837, 0.24254163],\n",
       "       [0.30904992, 0.69095008],\n",
       "       [0.15313295, 0.84686705],\n",
       "       [0.28612913, 0.71387087],\n",
       "       [0.31717848, 0.68282152],\n",
       "       [0.25964291, 0.74035709],\n",
       "       [0.74841286, 0.25158714],\n",
       "       [0.13266251, 0.86733749],\n",
       "       [0.26409083, 0.73590917],\n",
       "       [0.14934671, 0.85065329],\n",
       "       [0.81925541, 0.18074459],\n",
       "       [0.31893333, 0.68106667],\n",
       "       [0.1747741 , 0.8252259 ],\n",
       "       [0.1510466 , 0.8489534 ],\n",
       "       [0.14745652, 0.85254348],\n",
       "       [0.26066282, 0.73933718],\n",
       "       [0.27448834, 0.72551166],\n",
       "       [0.32597191, 0.67402809],\n",
       "       [0.3248206 , 0.6751794 ],\n",
       "       [0.15235627, 0.84764373],\n",
       "       [0.21959778, 0.78040222],\n",
       "       [0.16608307, 0.83391693],\n",
       "       [0.36390724, 0.63609276],\n",
       "       [0.23974534, 0.76025466],\n",
       "       [0.12176957, 0.87823043],\n",
       "       [0.19745707, 0.80254293],\n",
       "       [0.30486812, 0.69513188],\n",
       "       [0.12376989, 0.87623011],\n",
       "       [0.17907786, 0.82092214],\n",
       "       [0.26511486, 0.73488514],\n",
       "       [0.33114864, 0.66885136],\n",
       "       [0.34684729, 0.65315271],\n",
       "       [0.14665334, 0.85334666],\n",
       "       [0.55963851, 0.44036149],\n",
       "       [0.16817012, 0.83182988],\n",
       "       [0.19230163, 0.80769837],\n",
       "       [0.20105582, 0.79894418],\n",
       "       [0.7576795 , 0.2423205 ],\n",
       "       [0.39865334, 0.60134666],\n",
       "       [0.27550167, 0.72449833],\n",
       "       [0.16079932, 0.83920068],\n",
       "       [0.25928522, 0.74071478],\n",
       "       [0.23720149, 0.76279851],\n",
       "       [0.14390398, 0.85609602],\n",
       "       [0.61107713, 0.38892287],\n",
       "       [0.22419958, 0.77580042],\n",
       "       [0.27403493, 0.72596507],\n",
       "       [0.17716075, 0.82283925],\n",
       "       [0.3295263 , 0.6704737 ],\n",
       "       [0.63085551, 0.36914449],\n",
       "       [0.2745201 , 0.7254799 ],\n",
       "       [0.24055855, 0.75944145],\n",
       "       [0.70569738, 0.29430262],\n",
       "       [0.75987268, 0.24012732],\n",
       "       [0.14650069, 0.85349931],\n",
       "       [0.15584273, 0.84415727],\n",
       "       [0.15717144, 0.84282856],\n",
       "       [0.15053772, 0.84946228],\n",
       "       [0.12371576, 0.87628424],\n",
       "       [0.21391553, 0.78608447],\n",
       "       [0.29348015, 0.70651985],\n",
       "       [0.20824374, 0.79175626],\n",
       "       [0.70437114, 0.29562886],\n",
       "       [0.29154589, 0.70845411],\n",
       "       [0.70071852, 0.29928148],\n",
       "       [0.27591009, 0.72408991],\n",
       "       [0.71623856, 0.28376144],\n",
       "       [0.23304394, 0.76695606],\n",
       "       [0.28195956, 0.71804044],\n",
       "       [0.13644423, 0.86355577],\n",
       "       [0.12702062, 0.87297938],\n",
       "       [0.21117189, 0.78882811],\n",
       "       [0.30778237, 0.69221763],\n",
       "       [0.25423264, 0.74576736],\n",
       "       [0.13676962, 0.86323038],\n",
       "       [0.51545028, 0.48454972],\n",
       "       [0.13849028, 0.86150972],\n",
       "       [0.72672846, 0.27327154],\n",
       "       [0.27285899, 0.72714101],\n",
       "       [0.24057226, 0.75942774],\n",
       "       [0.1652538 , 0.8347462 ],\n",
       "       [0.55182505, 0.44817495],\n",
       "       [0.15662759, 0.84337241],\n",
       "       [0.15061378, 0.84938622],\n",
       "       [0.28852409, 0.71147591],\n",
       "       [0.3407705 , 0.6592295 ],\n",
       "       [0.31808229, 0.68191771],\n",
       "       [0.27521586, 0.72478414],\n",
       "       [0.33363871, 0.66636129],\n",
       "       [0.2219317 , 0.7780683 ],\n",
       "       [0.20784746, 0.79215254],\n",
       "       [0.35374624, 0.64625376],\n",
       "       [0.16114851, 0.83885149],\n",
       "       [0.14431123, 0.85568877],\n",
       "       [0.23956666, 0.76043334],\n",
       "       [0.27675402, 0.72324598],\n",
       "       [0.30989434, 0.69010566],\n",
       "       [0.22514179, 0.77485821],\n",
       "       [0.24995633, 0.75004367],\n",
       "       [0.23120901, 0.76879099],\n",
       "       [0.65748112, 0.34251888]])"
      ]
     },
     "execution_count": 172,
     "metadata": {},
     "output_type": "execute_result"
    }
   ],
   "source": [
    "lr.predict_proba(X)"
   ]
  },
  {
   "cell_type": "code",
   "execution_count": 173,
   "metadata": {},
   "outputs": [],
   "source": [
    "pr_pass=lr.predict_proba(X)[:,1]"
   ]
  },
  {
   "cell_type": "markdown",
   "metadata": {},
   "source": [
    "Calculating the threshold/Saturation point"
   ]
  },
  {
   "cell_type": "code",
   "execution_count": 174,
   "metadata": {},
   "outputs": [],
   "source": [
    "y_hat_thr=[]\n",
    "for i in pr_pass:\n",
    "    if i>0.72:\n",
    "        y_hat_thr.append(1)\n",
    "    else:\n",
    "        y_hat_thr.append(0)\n",
    "        "
   ]
  },
  {
   "cell_type": "markdown",
   "metadata": {},
   "source": [
    "Lets calcualte it after setting the Threshold/Saturation"
   ]
  },
  {
   "cell_type": "code",
   "execution_count": 175,
   "metadata": {},
   "outputs": [
    {
     "name": "stdout",
     "output_type": "stream",
     "text": [
      "Confusion Matrix after setting the Threshold:\n",
      " [[244  88]\n",
      " [ 54  94]]\n",
      "\n",
      "\n",
      "Classification report after setting the Threshold:\n",
      "               precision    recall  f1-score   support\n",
      "\n",
      "           0       0.52      0.64      0.57       148\n",
      "           1       0.82      0.73      0.77       332\n",
      "\n",
      "   micro avg       0.70      0.70      0.70       480\n",
      "   macro avg       0.67      0.69      0.67       480\n",
      "weighted avg       0.73      0.70      0.71       480\n",
      "\n"
     ]
    }
   ],
   "source": [
    "print('Confusion Matrix after setting the Threshold:\\n',confusion_matrix(y,y_hat_thr,labels=[1,0]))\n",
    "print('\\n\\nClassification report after setting the Threshold:\\n',classification_report(y,y_hat_thr))"
   ]
  },
  {
   "cell_type": "code",
   "execution_count": 176,
   "metadata": {},
   "outputs": [
    {
     "name": "stdout",
     "output_type": "stream",
     "text": [
      "-0.04890779276401766 * Gender +\n",
      "0.27592886027928964 * Married +\n",
      "0.08124371318617052 * Dependents +\n",
      "-0.038292156844044745 * Education +\n",
      "-0.12844633547360498 * Self_Employed +\n",
      "2.0339881159511735 * Credit_History +\n",
      "-0.5044934056070977 * Rural +\n",
      "0.25466209026201947 * Semiurban +\n",
      "-0.3555954291034107 * Urban +\n",
      "-2.9366377907363232e-05 * TotalIncome +\n",
      "\n",
      "Intercept -0.6054267444484922\n"
     ]
    }
   ],
   "source": [
    "for i,j in zip(lr.coef_[0],X.columns):\n",
    "    print(i,'*',j,'+')\n",
    "print(\"\\nIntercept\",lr.intercept_[0])"
   ]
  },
  {
   "cell_type": "markdown",
   "metadata": {},
   "source": [
    "Considering the dropped values"
   ]
  },
  {
   "cell_type": "code",
   "execution_count": 138,
   "metadata": {},
   "outputs": [
    {
     "data": {
      "text/plain": [
       "Int64Index([  1,   2,   3,   4,   5,   6,   7,   8,   9,  10,\n",
       "            ...\n",
       "            603, 604, 606, 607, 608, 609, 610, 611, 612, 613],\n",
       "           dtype='int64', length=480)"
      ]
     },
     "execution_count": 138,
     "metadata": {},
     "output_type": "execute_result"
    }
   ],
   "source": [
    "d.index"
   ]
  },
  {
   "cell_type": "code",
   "execution_count": 139,
   "metadata": {},
   "outputs": [
    {
     "data": {
      "text/plain": [
       "RangeIndex(start=0, stop=614, step=1)"
      ]
     },
     "execution_count": 139,
     "metadata": {},
     "output_type": "execute_result"
    }
   ],
   "source": [
    "df.index"
   ]
  },
  {
   "cell_type": "code",
   "execution_count": 177,
   "metadata": {},
   "outputs": [],
   "source": [
    "test_index=df.index.difference(d.index)"
   ]
  },
  {
   "cell_type": "code",
   "execution_count": 178,
   "metadata": {},
   "outputs": [
    {
     "data": {
      "text/plain": [
       "Int64Index([  0,  11,  16,  19,  23,  24,  29,  30,  35,  36,\n",
       "            ...\n",
       "            571, 576, 579, 583, 588, 592, 597, 600, 601, 605],\n",
       "           dtype='int64', length=134)"
      ]
     },
     "execution_count": 178,
     "metadata": {},
     "output_type": "execute_result"
    }
   ],
   "source": [
    "test_index"
   ]
  },
  {
   "cell_type": "code",
   "execution_count": 179,
   "metadata": {},
   "outputs": [],
   "source": [
    "test=df.loc[test_index]"
   ]
  },
  {
   "cell_type": "code",
   "execution_count": 180,
   "metadata": {},
   "outputs": [
    {
     "data": {
      "text/html": [
       "<div>\n",
       "<style scoped>\n",
       "    .dataframe tbody tr th:only-of-type {\n",
       "        vertical-align: middle;\n",
       "    }\n",
       "\n",
       "    .dataframe tbody tr th {\n",
       "        vertical-align: top;\n",
       "    }\n",
       "\n",
       "    .dataframe thead th {\n",
       "        text-align: right;\n",
       "    }\n",
       "</style>\n",
       "<table border=\"1\" class=\"dataframe\">\n",
       "  <thead>\n",
       "    <tr style=\"text-align: right;\">\n",
       "      <th></th>\n",
       "      <th>Loan_ID</th>\n",
       "      <th>Gender</th>\n",
       "      <th>Married</th>\n",
       "      <th>Dependents</th>\n",
       "      <th>Education</th>\n",
       "      <th>Self_Employed</th>\n",
       "      <th>ApplicantIncome</th>\n",
       "      <th>CoapplicantIncome</th>\n",
       "      <th>LoanAmount</th>\n",
       "      <th>Loan_Amount_Term</th>\n",
       "      <th>Credit_History</th>\n",
       "      <th>Property_Area</th>\n",
       "      <th>Loan_Status</th>\n",
       "    </tr>\n",
       "  </thead>\n",
       "  <tbody>\n",
       "    <tr>\n",
       "      <th>0</th>\n",
       "      <td>LP001002</td>\n",
       "      <td>Male</td>\n",
       "      <td>No</td>\n",
       "      <td>0</td>\n",
       "      <td>Graduate</td>\n",
       "      <td>No</td>\n",
       "      <td>5849</td>\n",
       "      <td>0.0</td>\n",
       "      <td>NaN</td>\n",
       "      <td>360.0</td>\n",
       "      <td>1.0</td>\n",
       "      <td>Urban</td>\n",
       "      <td>Y</td>\n",
       "    </tr>\n",
       "    <tr>\n",
       "      <th>11</th>\n",
       "      <td>LP001027</td>\n",
       "      <td>Male</td>\n",
       "      <td>Yes</td>\n",
       "      <td>2</td>\n",
       "      <td>Graduate</td>\n",
       "      <td>NaN</td>\n",
       "      <td>2500</td>\n",
       "      <td>1840.0</td>\n",
       "      <td>109.0</td>\n",
       "      <td>360.0</td>\n",
       "      <td>1.0</td>\n",
       "      <td>Urban</td>\n",
       "      <td>Y</td>\n",
       "    </tr>\n",
       "    <tr>\n",
       "      <th>16</th>\n",
       "      <td>LP001034</td>\n",
       "      <td>Male</td>\n",
       "      <td>No</td>\n",
       "      <td>1</td>\n",
       "      <td>Not Graduate</td>\n",
       "      <td>No</td>\n",
       "      <td>3596</td>\n",
       "      <td>0.0</td>\n",
       "      <td>100.0</td>\n",
       "      <td>240.0</td>\n",
       "      <td>NaN</td>\n",
       "      <td>Urban</td>\n",
       "      <td>Y</td>\n",
       "    </tr>\n",
       "    <tr>\n",
       "      <th>19</th>\n",
       "      <td>LP001041</td>\n",
       "      <td>Male</td>\n",
       "      <td>Yes</td>\n",
       "      <td>0</td>\n",
       "      <td>Graduate</td>\n",
       "      <td>NaN</td>\n",
       "      <td>2600</td>\n",
       "      <td>3500.0</td>\n",
       "      <td>115.0</td>\n",
       "      <td>NaN</td>\n",
       "      <td>1.0</td>\n",
       "      <td>Urban</td>\n",
       "      <td>Y</td>\n",
       "    </tr>\n",
       "    <tr>\n",
       "      <th>23</th>\n",
       "      <td>LP001050</td>\n",
       "      <td>NaN</td>\n",
       "      <td>Yes</td>\n",
       "      <td>2</td>\n",
       "      <td>Not Graduate</td>\n",
       "      <td>No</td>\n",
       "      <td>3365</td>\n",
       "      <td>1917.0</td>\n",
       "      <td>112.0</td>\n",
       "      <td>360.0</td>\n",
       "      <td>0.0</td>\n",
       "      <td>Rural</td>\n",
       "      <td>N</td>\n",
       "    </tr>\n",
       "  </tbody>\n",
       "</table>\n",
       "</div>"
      ],
      "text/plain": [
       "     Loan_ID Gender Married Dependents     Education Self_Employed  \\\n",
       "0   LP001002   Male      No          0      Graduate            No   \n",
       "11  LP001027   Male     Yes          2      Graduate           NaN   \n",
       "16  LP001034   Male      No          1  Not Graduate            No   \n",
       "19  LP001041   Male     Yes          0      Graduate           NaN   \n",
       "23  LP001050    NaN     Yes          2  Not Graduate            No   \n",
       "\n",
       "    ApplicantIncome  CoapplicantIncome  LoanAmount  Loan_Amount_Term  \\\n",
       "0              5849                0.0         NaN             360.0   \n",
       "11             2500             1840.0       109.0             360.0   \n",
       "16             3596                0.0       100.0             240.0   \n",
       "19             2600             3500.0       115.0               NaN   \n",
       "23             3365             1917.0       112.0             360.0   \n",
       "\n",
       "    Credit_History Property_Area Loan_Status  \n",
       "0              1.0         Urban           Y  \n",
       "11             1.0         Urban           Y  \n",
       "16             NaN         Urban           Y  \n",
       "19             1.0         Urban           Y  \n",
       "23             0.0         Rural           N  "
      ]
     },
     "execution_count": 180,
     "metadata": {},
     "output_type": "execute_result"
    }
   ],
   "source": [
    "test.head(5)"
   ]
  },
  {
   "cell_type": "code",
   "execution_count": 181,
   "metadata": {},
   "outputs": [
    {
     "data": {
      "text/plain": [
       "Loan_ID               0\n",
       "Gender               13\n",
       "Married               3\n",
       "Dependents           15\n",
       "Education             0\n",
       "Self_Employed        32\n",
       "ApplicantIncome       0\n",
       "CoapplicantIncome     0\n",
       "LoanAmount           22\n",
       "Loan_Amount_Term     14\n",
       "Credit_History       50\n",
       "Property_Area         0\n",
       "Loan_Status           0\n",
       "dtype: int64"
      ]
     },
     "execution_count": 181,
     "metadata": {},
     "output_type": "execute_result"
    }
   ],
   "source": [
    "test.isna().sum()"
   ]
  },
  {
   "cell_type": "code",
   "execution_count": 182,
   "metadata": {},
   "outputs": [
    {
     "data": {
      "text/plain": [
       "1.0    410\n",
       "0.0     70\n",
       "Name: Credit_History, dtype: int64"
      ]
     },
     "execution_count": 182,
     "metadata": {},
     "output_type": "execute_result"
    }
   ],
   "source": [
    "d['Credit_History'].value_counts()"
   ]
  },
  {
   "cell_type": "markdown",
   "metadata": {},
   "source": [
    "#### Improvising the model by filling the empty cells....And use it as a Test Data"
   ]
  },
  {
   "cell_type": "code",
   "execution_count": 183,
   "metadata": {},
   "outputs": [],
   "source": [
    "test.Gender=test.Gender.fillna(\"Male\")\n",
    "test.Married=test.Married.fillna(\"Yes\")\n",
    "test.Dependents=test.Dependents.fillna(\"0\")\n",
    "test.Self_Employed=test.Self_Employed.fillna(\"No\")\n",
    "test.LoanAmount=test.LoanAmount.fillna(d.LoanAmount.median())\n",
    "test.Loan_Amount_Term=test.Loan_Amount_Term.fillna(d.Loan_Amount_Term.median())\n",
    "test.Credit_History=test.Credit_History.fillna(1)"
   ]
  },
  {
   "cell_type": "code",
   "execution_count": 184,
   "metadata": {},
   "outputs": [
    {
     "data": {
      "text/plain": [
       "Loan_ID              0\n",
       "Gender               0\n",
       "Married              0\n",
       "Dependents           0\n",
       "Education            0\n",
       "Self_Employed        0\n",
       "ApplicantIncome      0\n",
       "CoapplicantIncome    0\n",
       "LoanAmount           0\n",
       "Loan_Amount_Term     0\n",
       "Credit_History       0\n",
       "Property_Area        0\n",
       "Loan_Status          0\n",
       "dtype: int64"
      ]
     },
     "execution_count": 184,
     "metadata": {},
     "output_type": "execute_result"
    }
   ],
   "source": [
    "test.isna().sum()"
   ]
  },
  {
   "cell_type": "code",
   "execution_count": 185,
   "metadata": {},
   "outputs": [],
   "source": [
    "X_test,y_test=datacleaning(test)"
   ]
  },
  {
   "cell_type": "code",
   "execution_count": 186,
   "metadata": {},
   "outputs": [
    {
     "data": {
      "text/plain": [
       "Index(['Gender', 'Married', 'Dependents', 'Education', 'Self_Employed',\n",
       "       'Credit_History', 'Rural', 'Semiurban', 'Urban', 'TotalIncome'],\n",
       "      dtype='object')"
      ]
     },
     "execution_count": 186,
     "metadata": {},
     "output_type": "execute_result"
    }
   ],
   "source": [
    "X_test.columns"
   ]
  },
  {
   "cell_type": "code",
   "execution_count": 187,
   "metadata": {},
   "outputs": [
    {
     "data": {
      "text/plain": [
       "0.7985074626865671"
      ]
     },
     "execution_count": 187,
     "metadata": {},
     "output_type": "execute_result"
    }
   ],
   "source": [
    "lr.score(X_test,y_test)"
   ]
  },
  {
   "cell_type": "code",
   "execution_count": 188,
   "metadata": {},
   "outputs": [
    {
     "name": "stdout",
     "output_type": "stream",
     "text": [
      "[[88  2]\n",
      " [25 19]]\n"
     ]
    }
   ],
   "source": [
    "y_hat_test=lr.predict(X_test)\n",
    "print(confusion_matrix(y_test,y_hat_test,labels=[1,0]))"
   ]
  },
  {
   "cell_type": "markdown",
   "metadata": {},
   "source": [
    "Accuracy for the Testing data is 0.7985074626865671"
   ]
  },
  {
   "cell_type": "code",
   "execution_count": 189,
   "metadata": {},
   "outputs": [
    {
     "name": "stdout",
     "output_type": "stream",
     "text": [
      "[[325   7]\n",
      " [ 84  64]]\n"
     ]
    }
   ],
   "source": [
    "print(confusion_matrix(y,y_hat,labels=[1,0]))"
   ]
  },
  {
   "cell_type": "markdown",
   "metadata": {},
   "source": [
    "Accuracy for the Training data is 0.8104166666666667"
   ]
  },
  {
   "cell_type": "code",
   "execution_count": 192,
   "metadata": {},
   "outputs": [
    {
     "name": "stdout",
     "output_type": "stream",
     "text": [
      "Train Data:\n",
      "               precision    recall  f1-score   support\n",
      "\n",
      "           0       0.90      0.43      0.58       148\n",
      "           1       0.79      0.98      0.88       332\n",
      "\n",
      "   micro avg       0.81      0.81      0.81       480\n",
      "   macro avg       0.85      0.71      0.73       480\n",
      "weighted avg       0.83      0.81      0.79       480\n",
      "\n",
      "Test Data:\n",
      "               precision    recall  f1-score   support\n",
      "\n",
      "           0       0.90      0.43      0.58        44\n",
      "           1       0.78      0.98      0.87        90\n",
      "\n",
      "   micro avg       0.80      0.80      0.80       134\n",
      "   macro avg       0.84      0.70      0.73       134\n",
      "weighted avg       0.82      0.80      0.77       134\n",
      "\n"
     ]
    }
   ],
   "source": [
    "#Lets Compare the Precision,Recall,F1-Score of both Training and Testing Data.\n",
    "\n",
    "print(\"Train Data:\\n\",classification_report(y,y_hat))\n",
    "print(\"Test Data:\\n\",classification_report(y_test,y_hat_test))"
   ]
  },
  {
   "cell_type": "markdown",
   "metadata": {},
   "source": [
    "Setting the Threshold/Saturation Value for the Testing Data"
   ]
  },
  {
   "cell_type": "code",
   "execution_count": 194,
   "metadata": {},
   "outputs": [],
   "source": [
    "y_hat_test_th=[]\n",
    "pr_pass_test=lr.predict_proba(X_test)[:,1]\n",
    "for i  in pr_pass_test:\n",
    "    if i>0.72:\n",
    "        y_hat_test_th.append(1)\n",
    "    else:\n",
    "        y_hat_test_th.append(0)"
   ]
  },
  {
   "cell_type": "code",
   "execution_count": 199,
   "metadata": {},
   "outputs": [
    {
     "name": "stdout",
     "output_type": "stream",
     "text": [
      "Train Data after setting the threshold:\n",
      "               precision    recall  f1-score   support\n",
      "\n",
      "           0       0.52      0.64      0.57       148\n",
      "           1       0.82      0.73      0.77       332\n",
      "\n",
      "   micro avg       0.70      0.70      0.70       480\n",
      "   macro avg       0.67      0.69      0.67       480\n",
      "weighted avg       0.73      0.70      0.71       480\n",
      "\n",
      "\n",
      "Test Data after setting the threshold:\n",
      "               precision    recall  f1-score   support\n",
      "\n",
      "           0       0.50      0.61      0.55        44\n",
      "           1       0.79      0.70      0.74        90\n",
      "\n",
      "   micro avg       0.67      0.67      0.67       134\n",
      "   macro avg       0.64      0.66      0.65       134\n",
      "weighted avg       0.69      0.67      0.68       134\n",
      "\n"
     ]
    }
   ],
   "source": [
    "#Lets Compare the Precision,Recall,F1-Score of both Training and Testing Data after setting the Threshold value.\n",
    "\n",
    "print(\"Train Data after setting the threshold:\\n\",classification_report(y,y_hat_thr))\n",
    "print(\"\\nTest Data after setting the threshold:\\n\",classification_report(y_test,y_hat_test_th))"
   ]
  },
  {
   "cell_type": "markdown",
   "metadata": {},
   "source": [
    "So this model has been trained to 81.4% accuracy with Training Data and tested to 79.8% with Testing Data... "
   ]
  },
  {
   "cell_type": "code",
   "execution_count": null,
   "metadata": {},
   "outputs": [],
   "source": []
  }
 ],
 "metadata": {
  "kernelspec": {
   "display_name": "Python 3",
   "language": "python",
   "name": "python3"
  },
  "language_info": {
   "codemirror_mode": {
    "name": "ipython",
    "version": 3
   },
   "file_extension": ".py",
   "mimetype": "text/x-python",
   "name": "python",
   "nbconvert_exporter": "python",
   "pygments_lexer": "ipython3",
   "version": "3.7.3"
  }
 },
 "nbformat": 4,
 "nbformat_minor": 2
}
